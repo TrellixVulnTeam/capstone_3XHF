{
 "cells": [
  {
   "cell_type": "markdown",
   "metadata": {},
   "source": [
    "## Data Cleaning"
   ]
  },
  {
   "cell_type": "code",
   "execution_count": 1,
   "metadata": {},
   "outputs": [],
   "source": [
    "import pandas as pd\n",
    "import numpy as np\n",
    "import os\n",
    "import re\n",
    "import multiprocessing as mp\n",
    "import matplotlib.pyplot as plt\n",
    "from bs4 import BeautifulSoup\n",
    "from wordcloud import WordCloud\n",
    "from nltk.corpus import stopwords # Import the stop word list\n",
    "import sys\n",
    "from joblib import Parallel, delayed  \n",
    "from textblob import TextBlob, Word\n",
    "from nltk.corpus import wordnet as wn\n",
    "from sklearn.utils import resample\n",
    "\n",
    "pd.set_option('display.max_rows', 100) # to look at more rows of data later\n",
    "pd.set_option('display.max_columns', 100) # to expand columns view so that all can be seen later"
   ]
  },
  {
   "cell_type": "markdown",
   "metadata": {},
   "source": [
    "Steps on cleaning the data.\n",
    "\n",
    "1. Load dataset\n",
    "2. Fill all NaN values with 0 (since labels follow float values)\n",
    "3. Lemmatize and remove stop words from the comments.\n",
    "4. Store the data together with the labels information in a new dataframe, removing any duplicates and blank comments."
   ]
  },
  {
   "cell_type": "code",
   "execution_count": 2,
   "metadata": {},
   "outputs": [],
   "source": [
    "data = pd.read_csv('../dataset/train.csv')"
   ]
  },
  {
   "cell_type": "code",
   "execution_count": 3,
   "metadata": {},
   "outputs": [],
   "source": [
    "# Fill null values with 0\n",
    "data.fillna(0,inplace=True)"
   ]
  },
  {
   "cell_type": "code",
   "execution_count": 119,
   "metadata": {},
   "outputs": [
    {
     "data": {
      "text/plain": [
       "id                                     144334\n",
       "target                                 144334\n",
       "comment_text                           144334\n",
       "severe_toxicity                        144334\n",
       "obscene                                144334\n",
       "identity_attack                        144334\n",
       "insult                                 144334\n",
       "threat                                 144334\n",
       "asian                                  144334\n",
       "atheist                                144334\n",
       "bisexual                               144334\n",
       "black                                  144334\n",
       "buddhist                               144334\n",
       "christian                              144334\n",
       "female                                 144334\n",
       "heterosexual                           144334\n",
       "hindu                                  144334\n",
       "homosexual_gay_or_lesbian              144334\n",
       "intellectual_or_learning_disability    144334\n",
       "jewish                                 144334\n",
       "latino                                 144334\n",
       "male                                   144334\n",
       "muslim                                 144334\n",
       "other_disability                       144334\n",
       "other_gender                           144334\n",
       "other_race_or_ethnicity                144334\n",
       "other_religion                         144334\n",
       "other_sexual_orientation               144334\n",
       "physical_disability                    144334\n",
       "psychiatric_or_mental_illness          144334\n",
       "transgender                            144334\n",
       "white                                  144334\n",
       "created_date                           144334\n",
       "publication_id                         144334\n",
       "parent_id                              144334\n",
       "article_id                             144334\n",
       "rating                                 144334\n",
       "funny                                  144334\n",
       "wow                                    144334\n",
       "sad                                    144334\n",
       "likes                                  144334\n",
       "disagree                               144334\n",
       "sexual_explicit                        144334\n",
       "identity_annotator_count               144334\n",
       "toxicity_annotator_count               144334\n",
       "dtype: int64"
      ]
     },
     "execution_count": 119,
     "metadata": {},
     "output_type": "execute_result"
    }
   ],
   "source": [
    "data[data['target'] >= 0.5].count()"
   ]
  },
  {
   "cell_type": "code",
   "execution_count": 5,
   "metadata": {},
   "outputs": [],
   "source": [
    "stops = set(stopwords.words('english'))\n",
    "\n",
    "def replaceMultiple(mainString, toBeReplaced, newString):\n",
    "    '''\n",
    "    Replace a set of multiple sub strings with a new string in main string.\n",
    "    \n",
    "    Parameters\n",
    "    ----------\n",
    "    mainString: str\n",
    "        Main text that contains substrings to be replaced\n",
    "    \n",
    "    toBeReplaced: list\n",
    "        List of substrings that are to be replaced in the main string\n",
    "        \n",
    "    newString: str\n",
    "        String that is replacing the substrings\n",
    "    \n",
    "    Returns\n",
    "    -------\n",
    "    String\n",
    "        Main string that has the strings replaced\n",
    "    '''\n",
    "    # Iterate over the strings to be replaced\n",
    "    for elem in toBeReplaced :\n",
    "        # Check if string is in the main string\n",
    "        if elem in mainString :\n",
    "            # Replace the string\n",
    "            mainString = mainString.replace(elem, newString)\n",
    "    \n",
    "    return  mainString\n",
    "\n",
    "# Pre-processing of text\n",
    "\n",
    "def text_to_words(text):\n",
    "    \"\"\"\n",
    "    Convert chunks of raw texts to a string of words.\n",
    "    \n",
    "    Parameters\n",
    "    ----------\n",
    "    text: str\n",
    "        Text that is required to be converted.\n",
    "    \n",
    "    Returns\n",
    "    -------\n",
    "    String\n",
    "        String that contains text that has been processed.\n",
    "    \"\"\"\n",
    "    num_cores = multiprocessing.cpu_count()\n",
    "    \n",
    "    # Remove URL links\n",
    "    comment = re.sub(r'^https?:\\/\\/.*[\\r\\n]*', '', text, flags=re.MULTILINE)\n",
    "    \n",
    "    # Remove HTML tags.\n",
    "    comment = BeautifulSoup(comment).get_text()\n",
    "    \n",
    "    # Remove non-letters. Since we are looking at mental issues, numbers will not be very relevant in this case.\n",
    "    letters_only = re.sub(\"[^a-zA-Z]\", \" \", comment)\n",
    "    \n",
    "    # Lemmatize words\n",
    "    words = lemmatize_with_postag(letters_only.lower())\n",
    "    \n",
    "    # Remove stop words.\n",
    "    meaningful_words = Parallel(n_jobs=num_cores)(delayed(stopwords_removal)(w) for w in words)\n",
    "    \n",
    "    # Join the words back into one string separated by space\n",
    "    return(\" \".join(list(filter(None, meaningful_words))))\n",
    "\n",
    "def stopwords_removal(word):\n",
    "    if word not in stops:\n",
    "        return word\n",
    "    else:\n",
    "        pass\n",
    "    \n",
    "def lemmatize_with_postag(sentence):\n",
    "    sent = TextBlob(sentence)\n",
    "    tag_dict = {\"J\": 'a', \n",
    "                \"N\": 'n', \n",
    "                \"V\": 'v', \n",
    "                \"R\": 'r'}\n",
    "    words_and_tags = [(w, tag_dict.get(pos[0], 'n')) for w, pos in sent.tags]    \n",
    "    return [wd.lemmatize(tag) for wd, tag in words_and_tags]\n",
    "    "
   ]
  },
  {
   "cell_type": "code",
   "execution_count": 195,
   "metadata": {},
   "outputs": [],
   "source": [
    "## Rewriting this as a function to clean data by batches of 50000 (Total of 38 batches to fully clean the data)\n",
    "\n",
    "def clean_data(batch_num):\n",
    "\n",
    "    cleaned_text = []\n",
    "    total_text = data.shape[0]\n",
    "    start_index = (batch_num - 1) * 50000\n",
    "    end_index = batch_num * 50000\n",
    "    if end_index > total_text:\n",
    "        end_index = total_text\n",
    "    for i in range(start_index,end_index):\n",
    "        # Convert review to words, then append to clean_train_reviews.\n",
    "        cleaned_text.append(text_to_words(data['comment_text'][i]))\n",
    "\n",
    "        # If the index is divisible by 1000, print a message\n",
    "        if (i + 1) % 5000 == 0:\n",
    "            print(f'Review {i + 1} of {total_text}.')\n",
    "        i += 1\n",
    "    print(f'Batch {batch_num} cleaning completed.')\n",
    "    \n",
    "    cleaned_text_df = pd.DataFrame(cleaned_text,columns=['comment'])\n",
    "    cleaned_text_df['target'] = list(data['target'][start_index:end_index])\n",
    "    \n",
    "    return cleaned_text_df\n"
   ]
  },
  {
   "cell_type": "code",
   "execution_count": 62,
   "metadata": {},
   "outputs": [
    {
     "name": "stdout",
     "output_type": "stream",
     "text": [
      "Review 5000 of 1804874.\n",
      "Review 10000 of 1804874.\n",
      "Review 15000 of 1804874.\n",
      "Review 20000 of 1804874.\n",
      "Review 25000 of 1804874.\n",
      "Review 30000 of 1804874.\n",
      "Review 35000 of 1804874.\n",
      "Review 40000 of 1804874.\n",
      "Review 45000 of 1804874.\n",
      "Review 50000 of 1804874.\n",
      "Batch 1 cleaning completed.\n"
     ]
    }
   ],
   "source": [
    "cleaned_batch_1 = clean_data(1)"
   ]
  },
  {
   "cell_type": "code",
   "execution_count": 64,
   "metadata": {},
   "outputs": [],
   "source": [
    "## Save to csv to avoid losing data\n",
    "cleaned_batch_1.to_csv('../dataset/cleaned_batch_1.csv',index=False)"
   ]
  },
  {
   "cell_type": "code",
   "execution_count": 65,
   "metadata": {},
   "outputs": [
    {
     "name": "stdout",
     "output_type": "stream",
     "text": [
      "Review 55000 of 1804874.\n",
      "Review 60000 of 1804874.\n",
      "Review 65000 of 1804874.\n",
      "Review 70000 of 1804874.\n"
     ]
    },
    {
     "name": "stderr",
     "output_type": "stream",
     "text": [
      "C:\\Users\\Carol\\Anaconda3\\lib\\site-packages\\bs4\\__init__.py:272: UserWarning: \"b'...'\" looks like a filename, not markup. You should probably open this file and pass the filehandle into Beautiful Soup.\n",
      "  ' Beautiful Soup.' % markup)\n"
     ]
    },
    {
     "name": "stdout",
     "output_type": "stream",
     "text": [
      "Review 75000 of 1804874.\n",
      "Review 80000 of 1804874.\n",
      "Review 85000 of 1804874.\n",
      "Review 90000 of 1804874.\n",
      "Review 95000 of 1804874.\n",
      "Review 100000 of 1804874.\n",
      "Batch 2 cleaning completed.\n"
     ]
    }
   ],
   "source": [
    "cleaned_batch_2 = clean_data(2)\n",
    "cleaned_batch_2.to_csv('../dataset/cleaned_batch_2.csv',index=False)"
   ]
  },
  {
   "cell_type": "code",
   "execution_count": 198,
   "metadata": {},
   "outputs": [],
   "source": [
    "# Issue with function when adding target data, reapplying it manually\n",
    "cleaned_batch_2['target'] = list(data['target'][50000:100000])"
   ]
  },
  {
   "cell_type": "code",
   "execution_count": 93,
   "metadata": {},
   "outputs": [
    {
     "name": "stdout",
     "output_type": "stream",
     "text": [
      "Review 105000 of 1804874.\n",
      "Review 110000 of 1804874.\n",
      "Review 115000 of 1804874.\n",
      "Review 120000 of 1804874.\n",
      "Review 125000 of 1804874.\n",
      "Review 130000 of 1804874.\n",
      "Review 135000 of 1804874.\n",
      "Review 140000 of 1804874.\n",
      "Review 145000 of 1804874.\n",
      "Review 150000 of 1804874.\n",
      "Batch 3 cleaning completed.\n"
     ]
    }
   ],
   "source": [
    "cleaned_batch_3 = clean_data(3)\n",
    "cleaned_batch_3.to_csv('../dataset/cleaned_batch_3.csv',index=False)"
   ]
  },
  {
   "cell_type": "code",
   "execution_count": 199,
   "metadata": {},
   "outputs": [],
   "source": [
    "# Issue with function when adding target data, reapplying it manually\n",
    "cleaned_batch_3['target'] = list(data['target'][100000:150000])"
   ]
  },
  {
   "cell_type": "code",
   "execution_count": 94,
   "metadata": {},
   "outputs": [
    {
     "name": "stdout",
     "output_type": "stream",
     "text": [
      "Review 155000 of 1804874.\n",
      "Review 160000 of 1804874.\n",
      "Review 165000 of 1804874.\n",
      "Review 170000 of 1804874.\n",
      "Review 175000 of 1804874.\n",
      "Review 180000 of 1804874.\n",
      "Review 185000 of 1804874.\n",
      "Review 190000 of 1804874.\n",
      "Review 195000 of 1804874.\n",
      "Review 200000 of 1804874.\n",
      "Batch 4 cleaning completed.\n"
     ]
    }
   ],
   "source": [
    "cleaned_batch_4 = clean_data(4)\n",
    "cleaned_batch_4.to_csv('../dataset/cleaned_batch_4.csv',index=False)"
   ]
  },
  {
   "cell_type": "code",
   "execution_count": 200,
   "metadata": {},
   "outputs": [],
   "source": [
    "# Issue with function when adding target data, reapplying it manually\n",
    "cleaned_batch_4['target'] = list(data['target'][150000:200000])"
   ]
  },
  {
   "cell_type": "code",
   "execution_count": 118,
   "metadata": {},
   "outputs": [
    {
     "name": "stdout",
     "output_type": "stream",
     "text": [
      "Review 205000 of 1804874.\n",
      "Review 210000 of 1804874.\n",
      "Review 215000 of 1804874.\n",
      "Review 220000 of 1804874.\n",
      "Review 225000 of 1804874.\n",
      "Review 230000 of 1804874.\n",
      "Review 235000 of 1804874.\n"
     ]
    },
    {
     "name": "stderr",
     "output_type": "stream",
     "text": [
      "C:\\Users\\Carol\\Anaconda3\\lib\\site-packages\\bs4\\__init__.py:272: UserWarning: \"b\". . . that includes his 'female chest pushing' virtuous elbows.\\n\\nIt would do well, for the guy who got the job because of his father's name, to remain quiet.\\n\\n/..\"\" looks like a filename, not markup. You should probably open this file and pass the filehandle into Beautiful Soup.\n",
      "  ' Beautiful Soup.' % markup)\n"
     ]
    },
    {
     "name": "stdout",
     "output_type": "stream",
     "text": [
      "Review 240000 of 1804874.\n",
      "Review 245000 of 1804874.\n",
      "Review 250000 of 1804874.\n",
      "Batch 5 cleaning completed.\n"
     ]
    }
   ],
   "source": [
    "cleaned_batch_5 = clean_data(5)\n",
    "cleaned_batch_5.to_csv('../dataset/cleaned_batch_5.csv',index=False)"
   ]
  },
  {
   "cell_type": "code",
   "execution_count": 201,
   "metadata": {},
   "outputs": [],
   "source": [
    "# Issue with function when adding target data, reapplying it manually\n",
    "cleaned_batch_5['target'] = list(data['target'][200000:250000])"
   ]
  },
  {
   "cell_type": "code",
   "execution_count": 147,
   "metadata": {},
   "outputs": [
    {
     "name": "stdout",
     "output_type": "stream",
     "text": [
      "Review 255000 of 1804874.\n"
     ]
    },
    {
     "name": "stderr",
     "output_type": "stream",
     "text": [
      "C:\\Users\\Carol\\Anaconda3\\lib\\site-packages\\bs4\\__init__.py:272: UserWarning: \"b'.....'\" looks like a filename, not markup. You should probably open this file and pass the filehandle into Beautiful Soup.\n",
      "  ' Beautiful Soup.' % markup)\n"
     ]
    },
    {
     "name": "stdout",
     "output_type": "stream",
     "text": [
      "Review 260000 of 1804874.\n",
      "Review 265000 of 1804874.\n",
      "Review 270000 of 1804874.\n",
      "Review 275000 of 1804874.\n",
      "Review 280000 of 1804874.\n"
     ]
    },
    {
     "name": "stderr",
     "output_type": "stream",
     "text": [
      "C:\\Users\\Carol\\Anaconda3\\lib\\site-packages\\bs4\\__init__.py:272: UserWarning: \"b'.'\" looks like a filename, not markup. You should probably open this file and pass the filehandle into Beautiful Soup.\n",
      "  ' Beautiful Soup.' % markup)\n",
      "C:\\Users\\Carol\\Anaconda3\\lib\\site-packages\\bs4\\__init__.py:272: UserWarning: \"b\"You know if one is going to make wild accusations -- both proof of what you say & a few citations to back up the deprecating 'tear-down' of Ms. Leitch would be appropriate.\\n\\n/..\"\" looks like a filename, not markup. You should probably open this file and pass the filehandle into Beautiful Soup.\n",
      "  ' Beautiful Soup.' % markup)\n"
     ]
    },
    {
     "name": "stdout",
     "output_type": "stream",
     "text": [
      "Review 285000 of 1804874.\n",
      "Review 290000 of 1804874.\n",
      "Review 295000 of 1804874.\n",
      "Review 300000 of 1804874.\n",
      "Batch 6 cleaning completed.\n"
     ]
    }
   ],
   "source": [
    "cleaned_batch_6 = clean_data(6)\n",
    "cleaned_batch_6.to_csv('../dataset/cleaned_batch_6.csv',index=False)"
   ]
  },
  {
   "cell_type": "code",
   "execution_count": 202,
   "metadata": {},
   "outputs": [],
   "source": [
    "# Issue with function when adding target data, reapplying it manually\n",
    "cleaned_batch_6['target'] = list(data['target'][250000:300000])"
   ]
  },
  {
   "cell_type": "code",
   "execution_count": 265,
   "metadata": {},
   "outputs": [
    {
     "name": "stdout",
     "output_type": "stream",
     "text": [
      "Review 305000 of 1804874.\n",
      "Review 310000 of 1804874.\n",
      "Review 315000 of 1804874.\n",
      "Review 320000 of 1804874.\n",
      "Review 325000 of 1804874.\n",
      "Review 330000 of 1804874.\n",
      "Review 335000 of 1804874.\n",
      "Review 340000 of 1804874.\n",
      "Review 345000 of 1804874.\n",
      "Review 350000 of 1804874.\n",
      "Batch 7 cleaning completed.\n"
     ]
    }
   ],
   "source": [
    "cleaned_batch_7 = clean_data(7)\n",
    "cleaned_batch_7.to_csv('../dataset/cleaned_batch_7.csv',index=False)"
   ]
  },
  {
   "cell_type": "code",
   "execution_count": 284,
   "metadata": {},
   "outputs": [
    {
     "name": "stderr",
     "output_type": "stream",
     "text": [
      "C:\\Users\\Carol\\Anaconda3\\lib\\site-packages\\bs4\\__init__.py:272: UserWarning: \"b'You are absolutely right...\\n\\n/..'\" looks like a filename, not markup. You should probably open this file and pass the filehandle into Beautiful Soup.\n",
      "  ' Beautiful Soup.' % markup)\n"
     ]
    },
    {
     "name": "stdout",
     "output_type": "stream",
     "text": [
      "Review 355000 of 1804874.\n",
      "Review 360000 of 1804874.\n",
      "Review 365000 of 1804874.\n",
      "Review 370000 of 1804874.\n"
     ]
    },
    {
     "name": "stderr",
     "output_type": "stream",
     "text": [
      "C:\\Users\\Carol\\Anaconda3\\lib\\site-packages\\bs4\\__init__.py:272: UserWarning: \"b'.'\" looks like a filename, not markup. You should probably open this file and pass the filehandle into Beautiful Soup.\n",
      "  ' Beautiful Soup.' % markup)\n"
     ]
    },
    {
     "name": "stdout",
     "output_type": "stream",
     "text": [
      "Review 375000 of 1804874.\n",
      "Review 380000 of 1804874.\n",
      "Review 385000 of 1804874.\n",
      "Review 390000 of 1804874.\n",
      "Review 395000 of 1804874.\n",
      "Review 400000 of 1804874.\n",
      "Batch 8 cleaning completed.\n"
     ]
    }
   ],
   "source": [
    "cleaned_batch_8 = clean_data(8)\n",
    "cleaned_batch_8.to_csv('../dataset/cleaned_batch_8.csv',index=False)"
   ]
  },
  {
   "cell_type": "code",
   "execution_count": 304,
   "metadata": {},
   "outputs": [
    {
     "name": "stdout",
     "output_type": "stream",
     "text": [
      "Review 405000 of 1804874.\n",
      "Review 410000 of 1804874.\n",
      "Review 415000 of 1804874.\n",
      "Review 420000 of 1804874.\n"
     ]
    },
    {
     "name": "stderr",
     "output_type": "stream",
     "text": [
      "C:\\Users\\Carol\\Anaconda3\\lib\\site-packages\\bs4\\__init__.py:272: UserWarning: \"b'.'\" looks like a filename, not markup. You should probably open this file and pass the filehandle into Beautiful Soup.\n",
      "  ' Beautiful Soup.' % markup)\n"
     ]
    },
    {
     "name": "stdout",
     "output_type": "stream",
     "text": [
      "Review 425000 of 1804874.\n",
      "Review 430000 of 1804874.\n",
      "Review 435000 of 1804874.\n",
      "Review 440000 of 1804874.\n",
      "Review 445000 of 1804874.\n",
      "Review 450000 of 1804874.\n",
      "Batch 9 cleaning completed.\n"
     ]
    }
   ],
   "source": [
    "cleaned_batch_9 = clean_data(9)\n",
    "cleaned_batch_9.to_csv('../dataset/cleaned_batch_9.csv',index=False)"
   ]
  },
  {
   "cell_type": "code",
   "execution_count": 305,
   "metadata": {},
   "outputs": [
    {
     "name": "stdout",
     "output_type": "stream",
     "text": [
      "Review 455000 of 1804874.\n",
      "Review 460000 of 1804874.\n",
      "Review 465000 of 1804874.\n",
      "Review 470000 of 1804874.\n",
      "Review 475000 of 1804874.\n",
      "Review 480000 of 1804874.\n",
      "Review 485000 of 1804874.\n",
      "Review 490000 of 1804874.\n",
      "Review 495000 of 1804874.\n",
      "Review 500000 of 1804874.\n",
      "Batch 10 cleaning completed.\n"
     ]
    }
   ],
   "source": [
    "cleaned_batch_10 = clean_data(10)\n",
    "cleaned_batch_10.to_csv('../dataset/cleaned_batch_10.csv',index=False)"
   ]
  },
  {
   "cell_type": "code",
   "execution_count": 306,
   "metadata": {},
   "outputs": [
    {
     "name": "stdout",
     "output_type": "stream",
     "text": [
      "Review 505000 of 1804874.\n",
      "Review 510000 of 1804874.\n",
      "Review 515000 of 1804874.\n",
      "Review 520000 of 1804874.\n",
      "Review 525000 of 1804874.\n",
      "Review 530000 of 1804874.\n",
      "Review 535000 of 1804874.\n",
      "Review 540000 of 1804874.\n",
      "Review 545000 of 1804874.\n",
      "Review 550000 of 1804874.\n",
      "Batch 11 cleaning completed.\n"
     ]
    }
   ],
   "source": [
    "cleaned_batch_11 = clean_data(11)\n",
    "cleaned_batch_11.to_csv('../dataset/cleaned_batch_11.csv',index=False)"
   ]
  },
  {
   "cell_type": "code",
   "execution_count": 307,
   "metadata": {},
   "outputs": [
    {
     "name": "stdout",
     "output_type": "stream",
     "text": [
      "Review 555000 of 1804874.\n",
      "Review 560000 of 1804874.\n",
      "Review 565000 of 1804874.\n",
      "Review 570000 of 1804874.\n"
     ]
    },
    {
     "name": "stderr",
     "output_type": "stream",
     "text": [
      "C:\\Users\\Carol\\Anaconda3\\lib\\site-packages\\bs4\\__init__.py:272: UserWarning: \"b'...'\" looks like a filename, not markup. You should probably open this file and pass the filehandle into Beautiful Soup.\n",
      "  ' Beautiful Soup.' % markup)\n"
     ]
    },
    {
     "name": "stdout",
     "output_type": "stream",
     "text": [
      "Review 575000 of 1804874.\n",
      "Review 580000 of 1804874.\n",
      "Review 585000 of 1804874.\n",
      "Review 590000 of 1804874.\n",
      "Review 595000 of 1804874.\n",
      "Review 600000 of 1804874.\n",
      "Batch 12 cleaning completed.\n"
     ]
    }
   ],
   "source": [
    "cleaned_batch_12 = clean_data(12)\n",
    "cleaned_batch_12.to_csv('../dataset/cleaned_batch_12.csv',index=False)"
   ]
  },
  {
   "cell_type": "code",
   "execution_count": 308,
   "metadata": {},
   "outputs": [
    {
     "name": "stdout",
     "output_type": "stream",
     "text": [
      "Review 605000 of 1804874.\n"
     ]
    },
    {
     "name": "stderr",
     "output_type": "stream",
     "text": [
      "C:\\Users\\Carol\\Anaconda3\\lib\\site-packages\\bs4\\__init__.py:272: UserWarning: \"b\". . . perhaps, but primarily their ability to 'lift' the work of others, call it their own -- and have that reality disappear over a few decades...\\n\\n/..\"\" looks like a filename, not markup. You should probably open this file and pass the filehandle into Beautiful Soup.\n",
      "  ' Beautiful Soup.' % markup)\n"
     ]
    },
    {
     "name": "stdout",
     "output_type": "stream",
     "text": [
      "Review 610000 of 1804874.\n",
      "Review 615000 of 1804874.\n",
      "Review 620000 of 1804874.\n",
      "Review 625000 of 1804874.\n",
      "Review 630000 of 1804874.\n",
      "Review 635000 of 1804874.\n",
      "Review 640000 of 1804874.\n",
      "Review 645000 of 1804874.\n",
      "Review 650000 of 1804874.\n",
      "Batch 13 cleaning completed.\n"
     ]
    }
   ],
   "source": [
    "cleaned_batch_13 = clean_data(13)\n",
    "cleaned_batch_13.to_csv('../dataset/cleaned_batch_13.csv',index=False)"
   ]
  },
  {
   "cell_type": "code",
   "execution_count": 333,
   "metadata": {},
   "outputs": [
    {
     "name": "stdout",
     "output_type": "stream",
     "text": [
      "Review 655000 of 1804874.\n",
      "Review 660000 of 1804874.\n",
      "Review 665000 of 1804874.\n",
      "Review 670000 of 1804874.\n"
     ]
    },
    {
     "name": "stderr",
     "output_type": "stream",
     "text": [
      "C:\\Users\\Carol\\Anaconda3\\lib\\site-packages\\bs4\\__init__.py:272: UserWarning: \"b'.'\" looks like a filename, not markup. You should probably open this file and pass the filehandle into Beautiful Soup.\n",
      "  ' Beautiful Soup.' % markup)\n"
     ]
    },
    {
     "name": "stdout",
     "output_type": "stream",
     "text": [
      "Review 675000 of 1804874.\n",
      "Review 680000 of 1804874.\n",
      "Review 685000 of 1804874.\n",
      "Review 690000 of 1804874.\n",
      "Review 695000 of 1804874.\n",
      "Review 700000 of 1804874.\n",
      "Batch 14 cleaning completed.\n"
     ]
    }
   ],
   "source": [
    "cleaned_batch_14 = clean_data(14)\n",
    "cleaned_batch_14.to_csv('../dataset/cleaned_batch_14.csv',index=False)"
   ]
  },
  {
   "cell_type": "code",
   "execution_count": 334,
   "metadata": {},
   "outputs": [
    {
     "name": "stdout",
     "output_type": "stream",
     "text": [
      "Review 705000 of 1804874.\n",
      "Review 710000 of 1804874.\n",
      "Review 715000 of 1804874.\n",
      "Review 720000 of 1804874.\n",
      "Review 725000 of 1804874.\n",
      "Review 730000 of 1804874.\n",
      "Review 735000 of 1804874.\n"
     ]
    },
    {
     "name": "stderr",
     "output_type": "stream",
     "text": [
      "C:\\Users\\Carol\\Anaconda3\\lib\\site-packages\\bs4\\__init__.py:272: UserWarning: \"b'. . . No Kidding.\\nGee, what the heck happened? Reality kick-in -- finally.\\n\\n/..'\" looks like a filename, not markup. You should probably open this file and pass the filehandle into Beautiful Soup.\n",
      "  ' Beautiful Soup.' % markup)\n"
     ]
    },
    {
     "name": "stdout",
     "output_type": "stream",
     "text": [
      "Review 740000 of 1804874.\n",
      "Review 745000 of 1804874.\n",
      "Review 750000 of 1804874.\n",
      "Batch 15 cleaning completed.\n"
     ]
    }
   ],
   "source": [
    "cleaned_batch_15 = clean_data(15)\n",
    "cleaned_batch_15.to_csv('../dataset/cleaned_batch_15.csv',index=False)"
   ]
  },
  {
   "cell_type": "code",
   "execution_count": 335,
   "metadata": {},
   "outputs": [
    {
     "name": "stdout",
     "output_type": "stream",
     "text": [
      "Review 755000 of 1804874.\n",
      "Review 760000 of 1804874.\n",
      "Review 765000 of 1804874.\n",
      "Review 770000 of 1804874.\n",
      "Review 775000 of 1804874.\n",
      "Review 780000 of 1804874.\n",
      "Review 785000 of 1804874.\n",
      "Review 790000 of 1804874.\n",
      "Review 795000 of 1804874.\n",
      "Review 800000 of 1804874.\n",
      "Batch 16 cleaning completed.\n"
     ]
    }
   ],
   "source": [
    "cleaned_batch_16 = clean_data(16)\n",
    "cleaned_batch_16.to_csv('../dataset/cleaned_batch_16.csv',index=False)"
   ]
  },
  {
   "cell_type": "code",
   "execution_count": 336,
   "metadata": {},
   "outputs": [
    {
     "name": "stdout",
     "output_type": "stream",
     "text": [
      "Review 805000 of 1804874.\n",
      "Review 810000 of 1804874.\n",
      "Review 815000 of 1804874.\n",
      "Review 820000 of 1804874.\n",
      "Review 825000 of 1804874.\n"
     ]
    },
    {
     "name": "stderr",
     "output_type": "stream",
     "text": [
      "C:\\Users\\Carol\\Anaconda3\\lib\\site-packages\\bs4\\__init__.py:272: UserWarning: \"b\". . . or you could ''haud yur wheesht' &  respect the opinion of ALL who enter after paying their monthly Globe & Mail bucks for the privilege to opine here ..\\n\\n/..\"\" looks like a filename, not markup. You should probably open this file and pass the filehandle into Beautiful Soup.\n",
      "  ' Beautiful Soup.' % markup)\n",
      "C:\\Users\\Carol\\Anaconda3\\lib\\site-packages\\bs4\\__init__.py:272: UserWarning: \"b\"Oh come on . . . how about drinking up the 'half-full' instead of staring at the 'half-empty'...\\n\\n/..\"\" looks like a filename, not markup. You should probably open this file and pass the filehandle into Beautiful Soup.\n",
      "  ' Beautiful Soup.' % markup)\n",
      "C:\\Users\\Carol\\Anaconda3\\lib\\site-packages\\bs4\\__init__.py:272: UserWarning: \"b'. . . Nope, just a pi$$ed off customer who got the boots put to their head.\\n\\nThe events are real, friend...\\n\\n/..'\" looks like a filename, not markup. You should probably open this file and pass the filehandle into Beautiful Soup.\n",
      "  ' Beautiful Soup.' % markup)\n"
     ]
    },
    {
     "name": "stdout",
     "output_type": "stream",
     "text": [
      "Review 830000 of 1804874.\n",
      "Review 835000 of 1804874.\n"
     ]
    },
    {
     "name": "stderr",
     "output_type": "stream",
     "text": [
      "C:\\Users\\Carol\\Anaconda3\\lib\\site-packages\\bs4\\__init__.py:272: UserWarning: \"b'Looks like it time to go back for the rest of the education . . .  to earn a decent living.\\n\\n/..'\" looks like a filename, not markup. You should probably open this file and pass the filehandle into Beautiful Soup.\n",
      "  ' Beautiful Soup.' % markup)\n"
     ]
    },
    {
     "name": "stdout",
     "output_type": "stream",
     "text": [
      "Review 840000 of 1804874.\n"
     ]
    },
    {
     "name": "stderr",
     "output_type": "stream",
     "text": [
      "C:\\Users\\Carol\\Anaconda3\\lib\\site-packages\\bs4\\__init__.py:272: UserWarning: \"b'...'\" looks like a filename, not markup. You should probably open this file and pass the filehandle into Beautiful Soup.\n",
      "  ' Beautiful Soup.' % markup)\n",
      "C:\\Users\\Carol\\Anaconda3\\lib\\site-packages\\bs4\\__init__.py:272: UserWarning: \"b'. . . Exactly.\\n\\n/..'\" looks like a filename, not markup. You should probably open this file and pass the filehandle into Beautiful Soup.\n",
      "  ' Beautiful Soup.' % markup)\n"
     ]
    },
    {
     "name": "stdout",
     "output_type": "stream",
     "text": [
      "Review 845000 of 1804874.\n",
      "Review 850000 of 1804874.\n",
      "Batch 17 cleaning completed.\n"
     ]
    }
   ],
   "source": [
    "cleaned_batch_17 = clean_data(17)\n",
    "cleaned_batch_17.to_csv('../dataset/cleaned_batch_17.csv',index=False)"
   ]
  },
  {
   "cell_type": "code",
   "execution_count": 361,
   "metadata": {},
   "outputs": [
    {
     "name": "stderr",
     "output_type": "stream",
     "text": [
      "C:\\Users\\Carol\\Anaconda3\\lib\\site-packages\\bs4\\__init__.py:272: UserWarning: \"b'Well Said...\\n\\n/..'\" looks like a filename, not markup. You should probably open this file and pass the filehandle into Beautiful Soup.\n",
      "  ' Beautiful Soup.' % markup)\n"
     ]
    },
    {
     "name": "stdout",
     "output_type": "stream",
     "text": [
      "Review 855000 of 1804874.\n"
     ]
    },
    {
     "name": "stderr",
     "output_type": "stream",
     "text": [
      "C:\\Users\\Carol\\Anaconda3\\lib\\site-packages\\bs4\\__init__.py:272: UserWarning: \"b'.'\" looks like a filename, not markup. You should probably open this file and pass the filehandle into Beautiful Soup.\n",
      "  ' Beautiful Soup.' % markup)\n"
     ]
    },
    {
     "name": "stdout",
     "output_type": "stream",
     "text": [
      "Review 860000 of 1804874.\n",
      "Review 865000 of 1804874.\n"
     ]
    },
    {
     "name": "stderr",
     "output_type": "stream",
     "text": [
      "C:\\Users\\Carol\\Anaconda3\\lib\\site-packages\\bs4\\__init__.py:272: UserWarning: \"b'Well Said..\\n\\n/..'\" looks like a filename, not markup. You should probably open this file and pass the filehandle into Beautiful Soup.\n",
      "  ' Beautiful Soup.' % markup)\n"
     ]
    },
    {
     "name": "stdout",
     "output_type": "stream",
     "text": [
      "Review 870000 of 1804874.\n",
      "Review 875000 of 1804874.\n"
     ]
    },
    {
     "name": "stderr",
     "output_type": "stream",
     "text": [
      "C:\\Users\\Carol\\Anaconda3\\lib\\site-packages\\bs4\\__init__.py:272: UserWarning: \"b\". . . and then there are those whose wish list includes the election of Marine Le Pen to France's presidency..\\n\\n/..\"\" looks like a filename, not markup. You should probably open this file and pass the filehandle into Beautiful Soup.\n",
      "  ' Beautiful Soup.' % markup)\n"
     ]
    },
    {
     "name": "stdout",
     "output_type": "stream",
     "text": [
      "Review 880000 of 1804874.\n"
     ]
    },
    {
     "name": "stderr",
     "output_type": "stream",
     "text": [
      "C:\\Users\\Carol\\Anaconda3\\lib\\site-packages\\bs4\\__init__.py:272: UserWarning: \"b'Exactly...\\n\\n/..'\" looks like a filename, not markup. You should probably open this file and pass the filehandle into Beautiful Soup.\n",
      "  ' Beautiful Soup.' % markup)\n"
     ]
    },
    {
     "name": "stdout",
     "output_type": "stream",
     "text": [
      "Review 885000 of 1804874.\n",
      "Review 890000 of 1804874.\n"
     ]
    },
    {
     "name": "stderr",
     "output_type": "stream",
     "text": [
      "C:\\Users\\Carol\\Anaconda3\\lib\\site-packages\\bs4\\__init__.py:272: UserWarning: \"b'Thank you... Precisely!\\n\\n/..'\" looks like a filename, not markup. You should probably open this file and pass the filehandle into Beautiful Soup.\n",
      "  ' Beautiful Soup.' % markup)\n"
     ]
    },
    {
     "name": "stdout",
     "output_type": "stream",
     "text": [
      "Review 895000 of 1804874.\n"
     ]
    },
    {
     "name": "stderr",
     "output_type": "stream",
     "text": [
      "C:\\Users\\Carol\\Anaconda3\\lib\\site-packages\\bs4\\__init__.py:272: UserWarning: \"b'Excellent Logic... Well Said.\\n\\n/..'\" looks like a filename, not markup. You should probably open this file and pass the filehandle into Beautiful Soup.\n",
      "  ' Beautiful Soup.' % markup)\n",
      "C:\\Users\\Carol\\Anaconda3\\lib\\site-packages\\bs4\\__init__.py:272: UserWarning: \"b'That is quite right. . . Well Said.\\n\\n/..'\" looks like a filename, not markup. You should probably open this file and pass the filehandle into Beautiful Soup.\n",
      "  ' Beautiful Soup.' % markup)\n",
      "C:\\Users\\Carol\\Anaconda3\\lib\\site-packages\\bs4\\__init__.py:272: UserWarning: \"b'Nicely said...\\n\\n/..'\" looks like a filename, not markup. You should probably open this file and pass the filehandle into Beautiful Soup.\n",
      "  ' Beautiful Soup.' % markup)\n",
      "C:\\Users\\Carol\\Anaconda3\\lib\\site-packages\\bs4\\__init__.py:272: UserWarning: \"b'Seems to be the case...\\n\\n/..'\" looks like a filename, not markup. You should probably open this file and pass the filehandle into Beautiful Soup.\n",
      "  ' Beautiful Soup.' % markup)\n",
      "C:\\Users\\Carol\\Anaconda3\\lib\\site-packages\\bs4\\__init__.py:272: UserWarning: \"b'Yes indeed..\\n\\n/..'\" looks like a filename, not markup. You should probably open this file and pass the filehandle into Beautiful Soup.\n",
      "  ' Beautiful Soup.' % markup)\n"
     ]
    },
    {
     "name": "stdout",
     "output_type": "stream",
     "text": [
      "Review 900000 of 1804874.\n",
      "Batch 18 cleaning completed.\n"
     ]
    }
   ],
   "source": [
    "cleaned_batch_18 = clean_data(18)\n",
    "cleaned_batch_18.to_csv('../dataset/cleaned_batch_18.csv',index=False)"
   ]
  },
  {
   "cell_type": "code",
   "execution_count": 380,
   "metadata": {},
   "outputs": [
    {
     "name": "stderr",
     "output_type": "stream",
     "text": [
      "C:\\Users\\Carol\\Anaconda3\\lib\\site-packages\\bs4\\__init__.py:272: UserWarning: \"b'Exactly. . . \\n\\n/..'\" looks like a filename, not markup. You should probably open this file and pass the filehandle into Beautiful Soup.\n",
      "  ' Beautiful Soup.' % markup)\n",
      "C:\\Users\\Carol\\Anaconda3\\lib\\site-packages\\bs4\\__init__.py:272: UserWarning: \"b'What nonsense. . . Slandering this Doctor is absolutely ridiculous..\\n\\n/..'\" looks like a filename, not markup. You should probably open this file and pass the filehandle into Beautiful Soup.\n",
      "  ' Beautiful Soup.' % markup)\n"
     ]
    },
    {
     "name": "stdout",
     "output_type": "stream",
     "text": [
      "Review 905000 of 1804874.\n",
      "Review 910000 of 1804874.\n",
      "Review 915000 of 1804874.\n",
      "Review 920000 of 1804874.\n"
     ]
    },
    {
     "name": "stderr",
     "output_type": "stream",
     "text": [
      "C:\\Users\\Carol\\Anaconda3\\lib\\site-packages\\bs4\\__init__.py:272: UserWarning: \"b'The Sale of Hydro One is completely disgusting...\\n\\n/..'\" looks like a filename, not markup. You should probably open this file and pass the filehandle into Beautiful Soup.\n",
      "  ' Beautiful Soup.' % markup)\n"
     ]
    },
    {
     "name": "stdout",
     "output_type": "stream",
     "text": [
      "Review 925000 of 1804874.\n",
      "Review 930000 of 1804874.\n",
      "Review 935000 of 1804874.\n"
     ]
    },
    {
     "name": "stderr",
     "output_type": "stream",
     "text": [
      "C:\\Users\\Carol\\Anaconda3\\lib\\site-packages\\bs4\\__init__.py:272: UserWarning: \"b'.'\" looks like a filename, not markup. You should probably open this file and pass the filehandle into Beautiful Soup.\n",
      "  ' Beautiful Soup.' % markup)\n",
      "C:\\Users\\Carol\\Anaconda3\\lib\\site-packages\\bs4\\__init__.py:272: UserWarning: \"b'Nicely said... \\n\\n/..'\" looks like a filename, not markup. You should probably open this file and pass the filehandle into Beautiful Soup.\n",
      "  ' Beautiful Soup.' % markup)\n",
      "C:\\Users\\Carol\\Anaconda3\\lib\\site-packages\\bs4\\__init__.py:272: UserWarning: \"b'\" Seems to me the Star has lost its way.\"\\n\\n. . . one singular opinion based on what seems to be \\'full-blown prejudice\\'..\\n\\n/..'\" looks like a filename, not markup. You should probably open this file and pass the filehandle into Beautiful Soup.\n",
      "  ' Beautiful Soup.' % markup)\n",
      "C:\\Users\\Carol\\Anaconda3\\lib\\site-packages\\bs4\\__init__.py:272: UserWarning: \"b\"This whole Aga Khan $30 Million -- Trudeau Vacation -- plus the Trudeau Foundation -- looks as 'crooked' as a country mile..\\n\\nHope the 'Ethics Commissioner' has a lot of energy snacks..\\n\\n/..\"\" looks like a filename, not markup. You should probably open this file and pass the filehandle into Beautiful Soup.\n",
      "  ' Beautiful Soup.' % markup)\n"
     ]
    },
    {
     "name": "stdout",
     "output_type": "stream",
     "text": [
      "Review 940000 of 1804874.\n",
      "Review 945000 of 1804874.\n",
      "Review 950000 of 1804874.\n",
      "Batch 19 cleaning completed.\n"
     ]
    }
   ],
   "source": [
    "cleaned_batch_19 = clean_data(19)\n",
    "cleaned_batch_19.to_csv('../dataset/cleaned_batch_19.csv',index=False)"
   ]
  },
  {
   "cell_type": "code",
   "execution_count": 381,
   "metadata": {},
   "outputs": [
    {
     "name": "stderr",
     "output_type": "stream",
     "text": [
      "C:\\Users\\Carol\\Anaconda3\\lib\\site-packages\\bs4\\__init__.py:272: UserWarning: \"b\"Ain't it the truth...\\n\\n/..\"\" looks like a filename, not markup. You should probably open this file and pass the filehandle into Beautiful Soup.\n",
      "  ' Beautiful Soup.' % markup)\n",
      "C:\\Users\\Carol\\Anaconda3\\lib\\site-packages\\bs4\\__init__.py:272: UserWarning: \"b'Oh come-on ... that was absolutely hilarious!\\n\\nIt just has to be a joke.\\n\\n/..'\" looks like a filename, not markup. You should probably open this file and pass the filehandle into Beautiful Soup.\n",
      "  ' Beautiful Soup.' % markup)\n"
     ]
    },
    {
     "name": "stdout",
     "output_type": "stream",
     "text": [
      "Review 955000 of 1804874.\n",
      "Review 960000 of 1804874.\n",
      "Review 965000 of 1804874.\n",
      "Review 970000 of 1804874.\n"
     ]
    },
    {
     "name": "stderr",
     "output_type": "stream",
     "text": [
      "C:\\Users\\Carol\\Anaconda3\\lib\\site-packages\\bs4\\__init__.py:272: UserWarning: \"b'Get a therapist, Sara because this obsessive-compulsion with Trump is becoming quite reiterative & boring. . . \\n\\n/..'\" looks like a filename, not markup. You should probably open this file and pass the filehandle into Beautiful Soup.\n",
      "  ' Beautiful Soup.' % markup)\n"
     ]
    },
    {
     "name": "stdout",
     "output_type": "stream",
     "text": [
      "Review 975000 of 1804874.\n"
     ]
    },
    {
     "name": "stderr",
     "output_type": "stream",
     "text": [
      "C:\\Users\\Carol\\Anaconda3\\lib\\site-packages\\bs4\\__init__.py:272: UserWarning: \"b\"And that, friend, is no reason for the 'life imprisonment'... that is complete bs ...\\n\\nBut then vicious is as vicious does... eh, pal.\\n\\n/..\"\" looks like a filename, not markup. You should probably open this file and pass the filehandle into Beautiful Soup.\n",
      "  ' Beautiful Soup.' % markup)\n",
      "C:\\Users\\Carol\\Anaconda3\\lib\\site-packages\\bs4\\__init__.py:272: UserWarning: \"b'. . . and yet, here you are. . . eh, pal?\\n\\n/..'\" looks like a filename, not markup. You should probably open this file and pass the filehandle into Beautiful Soup.\n",
      "  ' Beautiful Soup.' % markup)\n",
      "C:\\Users\\Carol\\Anaconda3\\lib\\site-packages\\bs4\\__init__.py:272: UserWarning: \"b\"Why Not Comment??? That is what an Open & Free Society is about.. !!\\n\\nSticking one's head into the ground like an ostrich -- is not what intelligent humans do ..\\n\\n/..\"\" looks like a filename, not markup. You should probably open this file and pass the filehandle into Beautiful Soup.\n",
      "  ' Beautiful Soup.' % markup)\n",
      "C:\\Users\\Carol\\Anaconda3\\lib\\site-packages\\bs4\\__init__.py:272: UserWarning: \"b'Steve, Well Said..\\n\\n/..'\" looks like a filename, not markup. You should probably open this file and pass the filehandle into Beautiful Soup.\n",
      "  ' Beautiful Soup.' % markup)\n",
      "C:\\Users\\Carol\\Anaconda3\\lib\\site-packages\\bs4\\__init__.py:272: UserWarning: \"b'Terrible situation . . . did the 2 young Muslim women finally contact the police to help as witnesses to the murders & to show solidarity with the families of the men killed protecting them??\\n\\n/..'\" looks like a filename, not markup. You should probably open this file and pass the filehandle into Beautiful Soup.\n",
      "  ' Beautiful Soup.' % markup)\n",
      "C:\\Users\\Carol\\Anaconda3\\lib\\site-packages\\bs4\\__init__.py:272: UserWarning: \"b'Excellent comment...\\n\\n/..'\" looks like a filename, not markup. You should probably open this file and pass the filehandle into Beautiful Soup.\n",
      "  ' Beautiful Soup.' % markup)\n",
      "C:\\Users\\Carol\\Anaconda3\\lib\\site-packages\\bs4\\__init__.py:272: UserWarning: \"b'Good Grief... Seems the Meritocracy Doctor is in.\\n\\n/..'\" looks like a filename, not markup. You should probably open this file and pass the filehandle into Beautiful Soup.\n",
      "  ' Beautiful Soup.' % markup)\n"
     ]
    },
    {
     "name": "stdout",
     "output_type": "stream",
     "text": [
      "Review 980000 of 1804874.\n"
     ]
    },
    {
     "name": "stderr",
     "output_type": "stream",
     "text": [
      "C:\\Users\\Carol\\Anaconda3\\lib\\site-packages\\bs4\\__init__.py:272: UserWarning: \"b'Hear! Hear! Jack Canuck!\\n\\nWell Said.. !\\n\\n/..'\" looks like a filename, not markup. You should probably open this file and pass the filehandle into Beautiful Soup.\n",
      "  ' Beautiful Soup.' % markup)\n",
      "C:\\Users\\Carol\\Anaconda3\\lib\\site-packages\\bs4\\__init__.py:272: UserWarning: \"b'Well Said.\\n\\n/..'\" looks like a filename, not markup. You should probably open this file and pass the filehandle into Beautiful Soup.\n",
      "  ' Beautiful Soup.' % markup)\n"
     ]
    },
    {
     "name": "stdout",
     "output_type": "stream",
     "text": [
      "Review 985000 of 1804874.\n",
      "Review 990000 of 1804874.\n",
      "Review 995000 of 1804874.\n"
     ]
    },
    {
     "name": "stderr",
     "output_type": "stream",
     "text": [
      "C:\\Users\\Carol\\Anaconda3\\lib\\site-packages\\bs4\\__init__.py:272: UserWarning: \"b'Suppose only the future will tell.\\n\\n/..'\" looks like a filename, not markup. You should probably open this file and pass the filehandle into Beautiful Soup.\n",
      "  ' Beautiful Soup.' % markup)\n",
      "C:\\Users\\Carol\\Anaconda3\\lib\\site-packages\\bs4\\__init__.py:272: UserWarning: \"b'Interesting though..\\n\\n/..'\" looks like a filename, not markup. You should probably open this file and pass the filehandle into Beautiful Soup.\n",
      "  ' Beautiful Soup.' % markup)\n",
      "C:\\Users\\Carol\\Anaconda3\\lib\\site-packages\\bs4\\__init__.py:272: UserWarning: \"b'Possibly...\\n\\n/..'\" looks like a filename, not markup. You should probably open this file and pass the filehandle into Beautiful Soup.\n",
      "  ' Beautiful Soup.' % markup)\n"
     ]
    },
    {
     "name": "stdout",
     "output_type": "stream",
     "text": [
      "Review 1000000 of 1804874.\n",
      "Batch 20 cleaning completed.\n"
     ]
    }
   ],
   "source": [
    "cleaned_batch_20 = clean_data(20)\n",
    "cleaned_batch_20.to_csv('../dataset/cleaned_batch_20.csv',index=False)"
   ]
  },
  {
   "cell_type": "code",
   "execution_count": 386,
   "metadata": {},
   "outputs": [
    {
     "name": "stdout",
     "output_type": "stream",
     "text": [
      "Review 1005000 of 1804874.\n",
      "Review 1010000 of 1804874.\n",
      "Review 1015000 of 1804874.\n",
      "Review 1020000 of 1804874.\n",
      "Review 1025000 of 1804874.\n",
      "Review 1030000 of 1804874.\n",
      "Review 1035000 of 1804874.\n"
     ]
    },
    {
     "name": "stderr",
     "output_type": "stream",
     "text": [
      "C:\\Users\\Carol\\Anaconda3\\lib\\site-packages\\bs4\\__init__.py:272: UserWarning: \"b'You nailed it, Lamont.. !!\\n\\n/..'\" looks like a filename, not markup. You should probably open this file and pass the filehandle into Beautiful Soup.\n",
      "  ' Beautiful Soup.' % markup)\n"
     ]
    },
    {
     "name": "stdout",
     "output_type": "stream",
     "text": [
      "Review 1040000 of 1804874.\n",
      "Review 1045000 of 1804874.\n"
     ]
    },
    {
     "name": "stderr",
     "output_type": "stream",
     "text": [
      "C:\\Users\\Carol\\Anaconda3\\lib\\site-packages\\bs4\\__init__.py:272: UserWarning: \"b'How argumentative... and predictable.\\n\\n/..'\" looks like a filename, not markup. You should probably open this file and pass the filehandle into Beautiful Soup.\n",
      "  ' Beautiful Soup.' % markup)\n",
      "C:\\Users\\Carol\\Anaconda3\\lib\\site-packages\\bs4\\__init__.py:272: UserWarning: \"b'Exactly...\\n\\n/..'\" looks like a filename, not markup. You should probably open this file and pass the filehandle into Beautiful Soup.\n",
      "  ' Beautiful Soup.' % markup)\n"
     ]
    },
    {
     "name": "stdout",
     "output_type": "stream",
     "text": [
      "Review 1050000 of 1804874.\n",
      "Batch 21 cleaning completed.\n"
     ]
    }
   ],
   "source": [
    "cleaned_batch_21 = clean_data(21)\n",
    "cleaned_batch_21.to_csv('../dataset/cleaned_batch_21.csv',index=False)"
   ]
  },
  {
   "cell_type": "code",
   "execution_count": 387,
   "metadata": {},
   "outputs": [
    {
     "name": "stdout",
     "output_type": "stream",
     "text": [
      "Review 1055000 of 1804874.\n"
     ]
    },
    {
     "name": "stderr",
     "output_type": "stream",
     "text": [
      "C:\\Users\\Carol\\Anaconda3\\lib\\site-packages\\bs4\\__init__.py:272: UserWarning: \"b'Systematic take over of Canada... Priceless!\\n\\n/..'\" looks like a filename, not markup. You should probably open this file and pass the filehandle into Beautiful Soup.\n",
      "  ' Beautiful Soup.' % markup)\n",
      "C:\\Users\\Carol\\Anaconda3\\lib\\site-packages\\bs4\\__init__.py:272: UserWarning: \"b'\"Why I won\\'t leave London, ever...\"\\n\\nInteresting.\\n\\n/..'\" looks like a filename, not markup. You should probably open this file and pass the filehandle into Beautiful Soup.\n",
      "  ' Beautiful Soup.' % markup)\n",
      "C:\\Users\\Carol\\Anaconda3\\lib\\site-packages\\bs4\\__init__.py:272: UserWarning: \"b\"The level of 'Censorship' with this story is utterly disgusting, Globe and Mail.\\n\\n/..\"\" looks like a filename, not markup. You should probably open this file and pass the filehandle into Beautiful Soup.\n",
      "  ' Beautiful Soup.' % markup)\n",
      "C:\\Users\\Carol\\Anaconda3\\lib\\site-packages\\bs4\\__init__.py:272: UserWarning: \"b\". . . as stated -- 'Let cool heads prevail'..\\n\\n/..\"\" looks like a filename, not markup. You should probably open this file and pass the filehandle into Beautiful Soup.\n",
      "  ' Beautiful Soup.' % markup)\n",
      "C:\\Users\\Carol\\Anaconda3\\lib\\site-packages\\bs4\\__init__.py:272: UserWarning: \"b\". . . your comment is just fine.. looks like the 'Comment Police' have shown up and are just getting warmed up with the 'Neggies'..\\n\\n/..\"\" looks like a filename, not markup. You should probably open this file and pass the filehandle into Beautiful Soup.\n",
      "  ' Beautiful Soup.' % markup)\n"
     ]
    },
    {
     "name": "stdout",
     "output_type": "stream",
     "text": [
      "Review 1060000 of 1804874.\n"
     ]
    },
    {
     "name": "stderr",
     "output_type": "stream",
     "text": [
      "C:\\Users\\Carol\\Anaconda3\\lib\\site-packages\\bs4\\__init__.py:272: UserWarning: \"b'...'\" looks like a filename, not markup. You should probably open this file and pass the filehandle into Beautiful Soup.\n",
      "  ' Beautiful Soup.' % markup)\n",
      "C:\\Users\\Carol\\Anaconda3\\lib\\site-packages\\bs4\\__init__.py:272: UserWarning: \"b'You are absolutely right...\\n\\n/..'\" looks like a filename, not markup. You should probably open this file and pass the filehandle into Beautiful Soup.\n",
      "  ' Beautiful Soup.' % markup)\n"
     ]
    },
    {
     "name": "stdout",
     "output_type": "stream",
     "text": [
      "Review 1065000 of 1804874.\n",
      "Review 1070000 of 1804874.\n"
     ]
    },
    {
     "name": "stderr",
     "output_type": "stream",
     "text": [
      "C:\\Users\\Carol\\Anaconda3\\lib\\site-packages\\bs4\\__init__.py:272: UserWarning: \"b'\"Ooooh, someone sounds jealous!\"\\n~ ~ ~ ~\\nYou bet... !!\\nHey G & M ... *over here* ... It\\'s Me!! --  I really want this job.. !!\\n\\n/..'\" looks like a filename, not markup. You should probably open this file and pass the filehandle into Beautiful Soup.\n",
      "  ' Beautiful Soup.' % markup)\n"
     ]
    },
    {
     "name": "stdout",
     "output_type": "stream",
     "text": [
      "Review 1075000 of 1804874.\n"
     ]
    },
    {
     "name": "stderr",
     "output_type": "stream",
     "text": [
      "C:\\Users\\Carol\\Anaconda3\\lib\\site-packages\\bs4\\__init__.py:272: UserWarning: \"b'Well Said, Bart...\\n\\n/..'\" looks like a filename, not markup. You should probably open this file and pass the filehandle into Beautiful Soup.\n",
      "  ' Beautiful Soup.' % markup)\n"
     ]
    },
    {
     "name": "stdout",
     "output_type": "stream",
     "text": [
      "Review 1080000 of 1804874.\n",
      "Review 1085000 of 1804874.\n"
     ]
    },
    {
     "name": "stderr",
     "output_type": "stream",
     "text": [
      "C:\\Users\\Carol\\Anaconda3\\lib\\site-packages\\bs4\\__init__.py:272: UserWarning: \"b\". . . given his history, it's somewhat obvious.\\n\\n/..\"\" looks like a filename, not markup. You should probably open this file and pass the filehandle into Beautiful Soup.\n",
      "  ' Beautiful Soup.' % markup)\n",
      "C:\\Users\\Carol\\Anaconda3\\lib\\site-packages\\bs4\\__init__.py:272: UserWarning: \"b\". . .  seems that 'atheists' are off the grid in this discussion.\\n\\n/..\"\" looks like a filename, not markup. You should probably open this file and pass the filehandle into Beautiful Soup.\n",
      "  ' Beautiful Soup.' % markup)\n",
      "C:\\Users\\Carol\\Anaconda3\\lib\\site-packages\\bs4\\__init__.py:272: UserWarning: \"b'Excellent Advice...\\n\\n/..'\" looks like a filename, not markup. You should probably open this file and pass the filehandle into Beautiful Soup.\n",
      "  ' Beautiful Soup.' % markup)\n"
     ]
    },
    {
     "name": "stdout",
     "output_type": "stream",
     "text": [
      "Review 1090000 of 1804874.\n",
      "Review 1095000 of 1804874.\n"
     ]
    },
    {
     "name": "stderr",
     "output_type": "stream",
     "text": [
      "C:\\Users\\Carol\\Anaconda3\\lib\\site-packages\\bs4\\__init__.py:272: UserWarning: \"b'. . . and appear to be good buddies with North Korea, the largest ~ 25 Million strong state-sponsored prison on the Planet.\\n\\n/..'\" looks like a filename, not markup. You should probably open this file and pass the filehandle into Beautiful Soup.\n",
      "  ' Beautiful Soup.' % markup)\n",
      "C:\\Users\\Carol\\Anaconda3\\lib\\site-packages\\bs4\\__init__.py:272: UserWarning: \"b'So Very Well Said...\\n\\n/..'\" looks like a filename, not markup. You should probably open this file and pass the filehandle into Beautiful Soup.\n",
      "  ' Beautiful Soup.' % markup)\n"
     ]
    },
    {
     "name": "stdout",
     "output_type": "stream",
     "text": [
      "Review 1100000 of 1804874.\n",
      "Batch 22 cleaning completed.\n"
     ]
    }
   ],
   "source": [
    "cleaned_batch_22 = clean_data(22)\n",
    "cleaned_batch_22.to_csv('../dataset/cleaned_batch_22.csv',index=False)"
   ]
  },
  {
   "cell_type": "code",
   "execution_count": 388,
   "metadata": {},
   "outputs": [
    {
     "name": "stdout",
     "output_type": "stream",
     "text": [
      "Review 1105000 of 1804874.\n",
      "Review 1110000 of 1804874.\n",
      "Review 1115000 of 1804874.\n",
      "Review 1120000 of 1804874.\n"
     ]
    },
    {
     "name": "stderr",
     "output_type": "stream",
     "text": [
      "C:\\Users\\Carol\\Anaconda3\\lib\\site-packages\\bs4\\__init__.py:272: UserWarning: \"b\"What an incredible statement of abject Communistic manipulation ...\\n.\\nPure nonsense... \\n.\\nCanadians are far more intelligent that to fall for the 'Why do you hate our values' accusation' .\\n\\n/..\"\" looks like a filename, not markup. You should probably open this file and pass the filehandle into Beautiful Soup.\n",
      "  ' Beautiful Soup.' % markup)\n",
      "C:\\Users\\Carol\\Anaconda3\\lib\\site-packages\\bs4\\__init__.py:272: UserWarning: \"b\"2 years, 3 months, 24 days... till the next Canadian Federal Election..\\n\\nNo more Majority Gov't Stupidity..\\n\\n/..\"\" looks like a filename, not markup. You should probably open this file and pass the filehandle into Beautiful Soup.\n",
      "  ' Beautiful Soup.' % markup)\n",
      "C:\\Users\\Carol\\Anaconda3\\lib\\site-packages\\bs4\\__init__.py:272: UserWarning: \"b\"erratum...\\n\\nDoesn't seem so...\\n\\n/..\"\" looks like a filename, not markup. You should probably open this file and pass the filehandle into Beautiful Soup.\n",
      "  ' Beautiful Soup.' % markup)\n",
      "C:\\Users\\Carol\\Anaconda3\\lib\\site-packages\\bs4\\__init__.py:272: UserWarning: \"b'. . . and China can go to hell.\\n\\n/..'\" looks like a filename, not markup. You should probably open this file and pass the filehandle into Beautiful Soup.\n",
      "  ' Beautiful Soup.' % markup)\n"
     ]
    },
    {
     "name": "stdout",
     "output_type": "stream",
     "text": [
      "Review 1125000 of 1804874.\n",
      "Review 1130000 of 1804874.\n",
      "Review 1135000 of 1804874.\n",
      "Review 1140000 of 1804874.\n"
     ]
    },
    {
     "name": "stderr",
     "output_type": "stream",
     "text": [
      "C:\\Users\\Carol\\Anaconda3\\lib\\site-packages\\bs4\\__init__.py:272: UserWarning: \"b'Nicely Said... and so True.\\n\\nHappy Canada Day.. !!\\n\\n/..'\" looks like a filename, not markup. You should probably open this file and pass the filehandle into Beautiful Soup.\n",
      "  ' Beautiful Soup.' % markup)\n"
     ]
    },
    {
     "name": "stdout",
     "output_type": "stream",
     "text": [
      "Review 1145000 of 1804874.\n"
     ]
    },
    {
     "name": "stderr",
     "output_type": "stream",
     "text": [
      "C:\\Users\\Carol\\Anaconda3\\lib\\site-packages\\bs4\\__init__.py:272: UserWarning: \"b\". . . more 'straw man' tootling..\\n\\n/..\"\" looks like a filename, not markup. You should probably open this file and pass the filehandle into Beautiful Soup.\n",
      "  ' Beautiful Soup.' % markup)\n",
      "C:\\Users\\Carol\\Anaconda3\\lib\\site-packages\\bs4\\__init__.py:272: UserWarning: \"b\". . . it's a Liberal thing.\\n\\n/..\"\" looks like a filename, not markup. You should probably open this file and pass the filehandle into Beautiful Soup.\n",
      "  ' Beautiful Soup.' % markup)\n",
      "C:\\Users\\Carol\\Anaconda3\\lib\\site-packages\\bs4\\__init__.py:272: UserWarning: \"b'Well Said..\\n\\n/..'\" looks like a filename, not markup. You should probably open this file and pass the filehandle into Beautiful Soup.\n",
      "  ' Beautiful Soup.' % markup)\n"
     ]
    },
    {
     "name": "stdout",
     "output_type": "stream",
     "text": [
      "Review 1150000 of 1804874.\n",
      "Batch 23 cleaning completed.\n"
     ]
    }
   ],
   "source": [
    "cleaned_batch_23 = clean_data(23)\n",
    "cleaned_batch_23.to_csv('../dataset/cleaned_batch_23.csv',index=False)"
   ]
  },
  {
   "cell_type": "code",
   "execution_count": 389,
   "metadata": {},
   "outputs": [
    {
     "name": "stdout",
     "output_type": "stream",
     "text": [
      "Review 1155000 of 1804874.\n"
     ]
    },
    {
     "name": "stderr",
     "output_type": "stream",
     "text": [
      "C:\\Users\\Carol\\Anaconda3\\lib\\site-packages\\bs4\\__init__.py:272: UserWarning: \"b'2003 - 2004 . . . Liberals under Prime Minister Paul Martin.\\n\\n/..'\" looks like a filename, not markup. You should probably open this file and pass the filehandle into Beautiful Soup.\n",
      "  ' Beautiful Soup.' % markup)\n",
      "C:\\Users\\Carol\\Anaconda3\\lib\\site-packages\\bs4\\__init__.py:272: UserWarning: \"b'Excellent synopsis... Well Said.\\n\\n/..'\" looks like a filename, not markup. You should probably open this file and pass the filehandle into Beautiful Soup.\n",
      "  ' Beautiful Soup.' % markup)\n",
      "C:\\Users\\Carol\\Anaconda3\\lib\\site-packages\\bs4\\__init__.py:272: UserWarning: \"b\". . . spoilt mommy's boy politics.\\n\\n/..\"\" looks like a filename, not markup. You should probably open this file and pass the filehandle into Beautiful Soup.\n",
      "  ' Beautiful Soup.' % markup)\n",
      "C:\\Users\\Carol\\Anaconda3\\lib\\site-packages\\bs4\\__init__.py:272: UserWarning: \"b'@Philly_Canauck: \"Ladies, help us collect, we\\'ll help you collect; otherwise, back off!\"\\n~ ~ ~\\n. . . that sounds lousy -- that\\'s a real problem there.\\n\\n/..'\" looks like a filename, not markup. You should probably open this file and pass the filehandle into Beautiful Soup.\n",
      "  ' Beautiful Soup.' % markup)\n",
      "C:\\Users\\Carol\\Anaconda3\\lib\\site-packages\\bs4\\__init__.py:272: UserWarning: \"b'. . . Liberal Prime Minister Paul Martin.\\n\\n/..'\" looks like a filename, not markup. You should probably open this file and pass the filehandle into Beautiful Soup.\n",
      "  ' Beautiful Soup.' % markup)\n",
      "C:\\Users\\Carol\\Anaconda3\\lib\\site-packages\\bs4\\__init__.py:272: UserWarning: \"b'Well Said...\\n\\n/..'\" looks like a filename, not markup. You should probably open this file and pass the filehandle into Beautiful Soup.\n",
      "  ' Beautiful Soup.' % markup)\n",
      "C:\\Users\\Carol\\Anaconda3\\lib\\site-packages\\bs4\\__init__.py:272: UserWarning: \"b'Nicely said...\\n\\n/..'\" looks like a filename, not markup. You should probably open this file and pass the filehandle into Beautiful Soup.\n",
      "  ' Beautiful Soup.' % markup)\n"
     ]
    },
    {
     "name": "stdout",
     "output_type": "stream",
     "text": [
      "Review 1160000 of 1804874.\n"
     ]
    },
    {
     "name": "stderr",
     "output_type": "stream",
     "text": [
      "C:\\Users\\Carol\\Anaconda3\\lib\\site-packages\\bs4\\__init__.py:272: UserWarning: \"b'Excellent Point...\\n\\n/..'\" looks like a filename, not markup. You should probably open this file and pass the filehandle into Beautiful Soup.\n",
      "  ' Beautiful Soup.' % markup)\n"
     ]
    },
    {
     "name": "stdout",
     "output_type": "stream",
     "text": [
      "Review 1165000 of 1804874.\n",
      "Review 1170000 of 1804874.\n"
     ]
    },
    {
     "name": "stderr",
     "output_type": "stream",
     "text": [
      "C:\\Users\\Carol\\Anaconda3\\lib\\site-packages\\bs4\\__init__.py:272: UserWarning: \"b'Ditto...\\n\\n/..'\" looks like a filename, not markup. You should probably open this file and pass the filehandle into Beautiful Soup.\n",
      "  ' Beautiful Soup.' % markup)\n",
      "C:\\Users\\Carol\\Anaconda3\\lib\\site-packages\\bs4\\__init__.py:272: UserWarning: \"b'Sounds good... and then there is reality... one man dead; one man blind; the perpetrator receives an apology & $10 Million Dollars. \\n\\nYeah...\\n\\n/..'\" looks like a filename, not markup. You should probably open this file and pass the filehandle into Beautiful Soup.\n",
      "  ' Beautiful Soup.' % markup)\n",
      "C:\\Users\\Carol\\Anaconda3\\lib\\site-packages\\bs4\\__init__.py:272: UserWarning: \"b'. . . he then owes the rest of us $4 Mil. Cdn..\\n\\nThe apology was enough.\\n\\n/..'\" looks like a filename, not markup. You should probably open this file and pass the filehandle into Beautiful Soup.\n",
      "  ' Beautiful Soup.' % markup)\n",
      "C:\\Users\\Carol\\Anaconda3\\lib\\site-packages\\bs4\\__init__.py:272: UserWarning: \"b'Excellent comment... \\n\\n. . . which brings this Canadian to the question -- what the heck is going on in Ottawa ???\\n\\n/..'\" looks like a filename, not markup. You should probably open this file and pass the filehandle into Beautiful Soup.\n",
      "  ' Beautiful Soup.' % markup)\n",
      "C:\\Users\\Carol\\Anaconda3\\lib\\site-packages\\bs4\\__init__.py:272: UserWarning: \"b\"Apparently, it seems the righteous Mr. E. is not taking calls right now... you know how it is after 'payday'... so much to do.\\n\\n/..\"\" looks like a filename, not markup. You should probably open this file and pass the filehandle into Beautiful Soup.\n",
      "  ' Beautiful Soup.' % markup)\n"
     ]
    },
    {
     "name": "stdout",
     "output_type": "stream",
     "text": [
      "Review 1175000 of 1804874.\n",
      "Review 1180000 of 1804874.\n"
     ]
    },
    {
     "name": "stderr",
     "output_type": "stream",
     "text": [
      "C:\\Users\\Carol\\Anaconda3\\lib\\site-packages\\bs4\\__init__.py:272: UserWarning: \"b'Exactly... Well Said, Canadian.. !!\\n\\n/..'\" looks like a filename, not markup. You should probably open this file and pass the filehandle into Beautiful Soup.\n",
      "  ' Beautiful Soup.' % markup)\n",
      "C:\\Users\\Carol\\Anaconda3\\lib\\site-packages\\bs4\\__init__.py:272: UserWarning: \"b\"Elbow to the Mammary Trudeau Canada's Feckless Feminist Prime Minister at Large, that is...\\n\\n/..\"\" looks like a filename, not markup. You should probably open this file and pass the filehandle into Beautiful Soup.\n",
      "  ' Beautiful Soup.' % markup)\n",
      "C:\\Users\\Carol\\Anaconda3\\lib\\site-packages\\bs4\\__init__.py:272: UserWarning: \"b'Excellent Comment... Well Said.\\n\\n/..'\" looks like a filename, not markup. You should probably open this file and pass the filehandle into Beautiful Soup.\n",
      "  ' Beautiful Soup.' % markup)\n"
     ]
    },
    {
     "name": "stdout",
     "output_type": "stream",
     "text": [
      "Review 1185000 of 1804874.\n",
      "Review 1190000 of 1804874.\n"
     ]
    },
    {
     "name": "stderr",
     "output_type": "stream",
     "text": [
      "C:\\Users\\Carol\\Anaconda3\\lib\\site-packages\\bs4\\__init__.py:272: UserWarning: \"b'\"The censorship here is a much bigger problem than anywhere else. Can G&M explains what the rule to delete comments?\"\\n~ ~ ~\\nYou are quite right... this may help ..\\nCheers, Canadian..\\n\\n/..'\" looks like a filename, not markup. You should probably open this file and pass the filehandle into Beautiful Soup.\n",
      "  ' Beautiful Soup.' % markup)\n",
      "C:\\Users\\Carol\\Anaconda3\\lib\\site-packages\\bs4\\__init__.py:272: UserWarning: \"b'You are absolutely right...\\n. . plus there are likely a number more to plug into that OC dominated venn..\\n\\n/..'\" looks like a filename, not markup. You should probably open this file and pass the filehandle into Beautiful Soup.\n",
      "  ' Beautiful Soup.' % markup)\n",
      "C:\\Users\\Carol\\Anaconda3\\lib\\site-packages\\bs4\\__init__.py:272: UserWarning: \"b'What a wonderful story of Humanitarianism springing into action... repeatedly.\\n\\n/..'\" looks like a filename, not markup. You should probably open this file and pass the filehandle into Beautiful Soup.\n",
      "  ' Beautiful Soup.' % markup)\n",
      "C:\\Users\\Carol\\Anaconda3\\lib\\site-packages\\bs4\\__init__.py:272: UserWarning: \"b\"Unless greased-up with a slightly torn pocked and rolled up to at the elbows -- they look 'cheesy faux'.\\n\\n/..\"\" looks like a filename, not markup. You should probably open this file and pass the filehandle into Beautiful Soup.\n",
      "  ' Beautiful Soup.' % markup)\n"
     ]
    },
    {
     "name": "stdout",
     "output_type": "stream",
     "text": [
      "Review 1195000 of 1804874.\n",
      "Review 1200000 of 1804874.\n",
      "Batch 24 cleaning completed.\n"
     ]
    }
   ],
   "source": [
    "cleaned_batch_24 = clean_data(24)\n",
    "cleaned_batch_24.to_csv('../dataset/cleaned_batch_24.csv',index=False)"
   ]
  },
  {
   "cell_type": "code",
   "execution_count": 390,
   "metadata": {},
   "outputs": [
    {
     "name": "stdout",
     "output_type": "stream",
     "text": [
      "Review 1205000 of 1804874.\n"
     ]
    },
    {
     "name": "stderr",
     "output_type": "stream",
     "text": [
      "C:\\Users\\Carol\\Anaconda3\\lib\\site-packages\\bs4\\__init__.py:272: UserWarning: \"b'Exciting Suff.. !!\\n\\n/..'\" looks like a filename, not markup. You should probably open this file and pass the filehandle into Beautiful Soup.\n",
      "  ' Beautiful Soup.' % markup)\n",
      "C:\\Users\\Carol\\Anaconda3\\lib\\site-packages\\bs4\\__init__.py:272: UserWarning: \"b\"I'm with you...\\n\\n/..\"\" looks like a filename, not markup. You should probably open this file and pass the filehandle into Beautiful Soup.\n",
      "  ' Beautiful Soup.' % markup)\n",
      "C:\\Users\\Carol\\Anaconda3\\lib\\site-packages\\bs4\\__init__.py:272: UserWarning: \"b'How interesting...\\n\\n/..'\" looks like a filename, not markup. You should probably open this file and pass the filehandle into Beautiful Soup.\n",
      "  ' Beautiful Soup.' % markup)\n",
      "C:\\Users\\Carol\\Anaconda3\\lib\\site-packages\\bs4\\__init__.py:272: UserWarning: \"b'. . . generalizing statement over a whole population. Tsk Tsk..\\n\\n/..'\" looks like a filename, not markup. You should probably open this file and pass the filehandle into Beautiful Soup.\n",
      "  ' Beautiful Soup.' % markup)\n",
      "C:\\Users\\Carol\\Anaconda3\\lib\\site-packages\\bs4\\__init__.py:272: UserWarning: \"b\"No Rust & Well Constructed  -- That's the Ticket.. !!\\n\\n/..\"\" looks like a filename, not markup. You should probably open this file and pass the filehandle into Beautiful Soup.\n",
      "  ' Beautiful Soup.' % markup)\n",
      "C:\\Users\\Carol\\Anaconda3\\lib\\site-packages\\bs4\\__init__.py:272: UserWarning: \"b\"That is simply more manipulative propaganda from an experimental gov't which is strong-arming its people.\\n\\n/..\"\" looks like a filename, not markup. You should probably open this file and pass the filehandle into Beautiful Soup.\n",
      "  ' Beautiful Soup.' % markup)\n",
      "C:\\Users\\Carol\\Anaconda3\\lib\\site-packages\\bs4\\__init__.py:272: UserWarning: \"b'Nicely Said...\\n\\n/..'\" looks like a filename, not markup. You should probably open this file and pass the filehandle into Beautiful Soup.\n",
      "  ' Beautiful Soup.' % markup)\n",
      "C:\\Users\\Carol\\Anaconda3\\lib\\site-packages\\bs4\\__init__.py:272: UserWarning: \"b\"No kidding... Also looks too face heavy -- needs a design which does not look like its a distended 'box'.. Seems primitive. \\n\\n/..\"\" looks like a filename, not markup. You should probably open this file and pass the filehandle into Beautiful Soup.\n",
      "  ' Beautiful Soup.' % markup)\n"
     ]
    },
    {
     "name": "stdout",
     "output_type": "stream",
     "text": [
      "Review 1210000 of 1804874.\n",
      "Review 1215000 of 1804874.\n",
      "Review 1220000 of 1804874.\n",
      "Review 1225000 of 1804874.\n"
     ]
    },
    {
     "name": "stderr",
     "output_type": "stream",
     "text": [
      "C:\\Users\\Carol\\Anaconda3\\lib\\site-packages\\bs4\\__init__.py:272: UserWarning: \"b\"As they say... it ain't over till its over -- Wynne has a great deal to answer for.. Starting Hydro One..\\nPolitical outcome for the People of Ontaio is genderless -- Time for a change.\\n\\n/..\"\" looks like a filename, not markup. You should probably open this file and pass the filehandle into Beautiful Soup.\n",
      "  ' Beautiful Soup.' % markup)\n",
      "C:\\Users\\Carol\\Anaconda3\\lib\\site-packages\\bs4\\__init__.py:272: UserWarning: \"b'Good to know...\\n\\n/..'\" looks like a filename, not markup. You should probably open this file and pass the filehandle into Beautiful Soup.\n",
      "  ' Beautiful Soup.' % markup)\n"
     ]
    },
    {
     "name": "stdout",
     "output_type": "stream",
     "text": [
      "Review 1230000 of 1804874.\n"
     ]
    },
    {
     "name": "stderr",
     "output_type": "stream",
     "text": [
      "C:\\Users\\Carol\\Anaconda3\\lib\\site-packages\\bs4\\__init__.py:272: UserWarning: \"b'Well you know, 214Montreal... you are absolutely right but it would seem that you are not immune to trolleste.\\n\\nYour comment is fair and unbiased.\\n\\n/..'\" looks like a filename, not markup. You should probably open this file and pass the filehandle into Beautiful Soup.\n",
      "  ' Beautiful Soup.' % markup)\n",
      "C:\\Users\\Carol\\Anaconda3\\lib\\site-packages\\bs4\\__init__.py:272: UserWarning: \"b'Teddy Ballgame 9 & MarcDacey: Well Said !\\n\\n/..'\" looks like a filename, not markup. You should probably open this file and pass the filehandle into Beautiful Soup.\n",
      "  ' Beautiful Soup.' % markup)\n",
      "C:\\Users\\Carol\\Anaconda3\\lib\\site-packages\\bs4\\__init__.py:272: UserWarning: \"b'Deuces Wild - Nicely Said.\\n\\n/..'\" looks like a filename, not markup. You should probably open this file and pass the filehandle into Beautiful Soup.\n",
      "  ' Beautiful Soup.' % markup)\n",
      "C:\\Users\\Carol\\Anaconda3\\lib\\site-packages\\bs4\\__init__.py:272: UserWarning: \"b'At Last... !! Nicely Said!\\n\\n/..'\" looks like a filename, not markup. You should probably open this file and pass the filehandle into Beautiful Soup.\n",
      "  ' Beautiful Soup.' % markup)\n",
      "C:\\Users\\Carol\\Anaconda3\\lib\\site-packages\\bs4\\__init__.py:272: UserWarning: \"b'214Montreal - Well Said.\\n\\n/..'\" looks like a filename, not markup. You should probably open this file and pass the filehandle into Beautiful Soup.\n",
      "  ' Beautiful Soup.' % markup)\n",
      "C:\\Users\\Carol\\Anaconda3\\lib\\site-packages\\bs4\\__init__.py:272: UserWarning: \"b'Excellent Comment... !!\\n\\n/..'\" looks like a filename, not markup. You should probably open this file and pass the filehandle into Beautiful Soup.\n",
      "  ' Beautiful Soup.' % markup)\n",
      "C:\\Users\\Carol\\Anaconda3\\lib\\site-packages\\bs4\\__init__.py:272: UserWarning: \"b'Alcest: Jews & moderate Muslims are perceived equally in Canada.\\n\\n/..'\" looks like a filename, not markup. You should probably open this file and pass the filehandle into Beautiful Soup.\n",
      "  ' Beautiful Soup.' % markup)\n",
      "C:\\Users\\Carol\\Anaconda3\\lib\\site-packages\\bs4\\__init__.py:272: UserWarning: \"b'Excellent comment.. !!\\n\\n/..'\" looks like a filename, not markup. You should probably open this file and pass the filehandle into Beautiful Soup.\n",
      "  ' Beautiful Soup.' % markup)\n",
      "C:\\Users\\Carol\\Anaconda3\\lib\\site-packages\\bs4\\__init__.py:272: UserWarning: \"b'. . . and its time to get rid of it.\\n\\n/..'\" looks like a filename, not markup. You should probably open this file and pass the filehandle into Beautiful Soup.\n",
      "  ' Beautiful Soup.' % markup)\n"
     ]
    },
    {
     "name": "stdout",
     "output_type": "stream",
     "text": [
      "Review 1235000 of 1804874.\n",
      "Review 1240000 of 1804874.\n",
      "Review 1245000 of 1804874.\n"
     ]
    },
    {
     "name": "stderr",
     "output_type": "stream",
     "text": [
      "C:\\Users\\Carol\\Anaconda3\\lib\\site-packages\\bs4\\__init__.py:272: UserWarning: \"b'Excellent Article... enjoyed it.\\n\\n/..'\" looks like a filename, not markup. You should probably open this file and pass the filehandle into Beautiful Soup.\n",
      "  ' Beautiful Soup.' % markup)\n",
      "C:\\Users\\Carol\\Anaconda3\\lib\\site-packages\\bs4\\__init__.py:272: UserWarning: \"b'What a unique concept... looking forward to viewing this film.\\n\\n/..'\" looks like a filename, not markup. You should probably open this file and pass the filehandle into Beautiful Soup.\n",
      "  ' Beautiful Soup.' % markup)\n",
      "C:\\Users\\Carol\\Anaconda3\\lib\\site-packages\\bs4\\__init__.py:272: UserWarning: \"b'No Kidding..\\n\\n/..'\" looks like a filename, not markup. You should probably open this file and pass the filehandle into Beautiful Soup.\n",
      "  ' Beautiful Soup.' % markup)\n"
     ]
    },
    {
     "name": "stdout",
     "output_type": "stream",
     "text": [
      "Review 1250000 of 1804874.\n",
      "Batch 25 cleaning completed.\n"
     ]
    }
   ],
   "source": [
    "cleaned_batch_25 = clean_data(25)\n",
    "cleaned_batch_25.to_csv('../dataset/cleaned_batch_25.csv',index=False)"
   ]
  },
  {
   "cell_type": "code",
   "execution_count": 391,
   "metadata": {},
   "outputs": [
    {
     "name": "stdout",
     "output_type": "stream",
     "text": [
      "Review 1255000 of 1804874.\n",
      "Review 1260000 of 1804874.\n",
      "Review 1265000 of 1804874.\n"
     ]
    },
    {
     "name": "stderr",
     "output_type": "stream",
     "text": [
      "C:\\Users\\Carol\\Anaconda3\\lib\\site-packages\\bs4\\__init__.py:272: UserWarning: \"b'What a megalomaniac...\\n\\n/..'\" looks like a filename, not markup. You should probably open this file and pass the filehandle into Beautiful Soup.\n",
      "  ' Beautiful Soup.' % markup)\n"
     ]
    },
    {
     "name": "stdout",
     "output_type": "stream",
     "text": [
      "Review 1270000 of 1804874.\n"
     ]
    },
    {
     "name": "stderr",
     "output_type": "stream",
     "text": [
      "C:\\Users\\Carol\\Anaconda3\\lib\\site-packages\\bs4\\__init__.py:272: UserWarning: \"b'True enough. . . it seems that instead of discussing all issues in an open forthright nature there appears to be a push to silence... which belongs to the purview of tyranny.\\n\\n/..'\" looks like a filename, not markup. You should probably open this file and pass the filehandle into Beautiful Soup.\n",
      "  ' Beautiful Soup.' % markup)\n"
     ]
    },
    {
     "name": "stdout",
     "output_type": "stream",
     "text": [
      "Review 1275000 of 1804874.\n",
      "Review 1280000 of 1804874.\n",
      "Review 1285000 of 1804874.\n"
     ]
    },
    {
     "name": "stderr",
     "output_type": "stream",
     "text": [
      "C:\\Users\\Carol\\Anaconda3\\lib\\site-packages\\bs4\\__init__.py:272: UserWarning: \"b'Okay... That made me smile. Well Said.\\n\\n/..'\" looks like a filename, not markup. You should probably open this file and pass the filehandle into Beautiful Soup.\n",
      "  ' Beautiful Soup.' % markup)\n"
     ]
    },
    {
     "name": "stdout",
     "output_type": "stream",
     "text": [
      "Review 1290000 of 1804874.\n",
      "Review 1295000 of 1804874.\n",
      "Review 1300000 of 1804874.\n",
      "Batch 26 cleaning completed.\n"
     ]
    }
   ],
   "source": [
    "cleaned_batch_26 = clean_data(26)\n",
    "cleaned_batch_26.to_csv('../dataset/cleaned_batch_26.csv',index=False)"
   ]
  },
  {
   "cell_type": "code",
   "execution_count": 392,
   "metadata": {},
   "outputs": [
    {
     "name": "stdout",
     "output_type": "stream",
     "text": [
      "Review 1305000 of 1804874.\n"
     ]
    },
    {
     "name": "stderr",
     "output_type": "stream",
     "text": [
      "C:\\Users\\Carol\\Anaconda3\\lib\\site-packages\\bs4\\__init__.py:272: UserWarning: \"b'Ridiculous trash-talk.\\n\\n/..'\" looks like a filename, not markup. You should probably open this file and pass the filehandle into Beautiful Soup.\n",
      "  ' Beautiful Soup.' % markup)\n",
      "C:\\Users\\Carol\\Anaconda3\\lib\\site-packages\\bs4\\__init__.py:272: UserWarning: \"b'More trash-talk\\n\\n/..'\" looks like a filename, not markup. You should probably open this file and pass the filehandle into Beautiful Soup.\n",
      "  ' Beautiful Soup.' % markup)\n",
      "C:\\Users\\Carol\\Anaconda3\\lib\\site-packages\\bs4\\__init__.py:272: UserWarning: \"b'Terrible waste of life...\\n\\n/..'\" looks like a filename, not markup. You should probably open this file and pass the filehandle into Beautiful Soup.\n",
      "  ' Beautiful Soup.' % markup)\n"
     ]
    },
    {
     "name": "stdout",
     "output_type": "stream",
     "text": [
      "Review 1310000 of 1804874.\n"
     ]
    },
    {
     "name": "stderr",
     "output_type": "stream",
     "text": [
      "C:\\Users\\Carol\\Anaconda3\\lib\\site-packages\\bs4\\__init__.py:272: UserWarning: \"b'. . . and you know how manic the Airy-Fairy-Dust of the NeoLibs gets when they commandeer the Magical Partisan Trolls to defecate on basic truth & logic.\\n\\n/..'\" looks like a filename, not markup. You should probably open this file and pass the filehandle into Beautiful Soup.\n",
      "  ' Beautiful Soup.' % markup)\n"
     ]
    },
    {
     "name": "stdout",
     "output_type": "stream",
     "text": [
      "Review 1315000 of 1804874.\n",
      "Review 1320000 of 1804874.\n",
      "Review 1325000 of 1804874.\n"
     ]
    },
    {
     "name": "stderr",
     "output_type": "stream",
     "text": [
      "C:\\Users\\Carol\\Anaconda3\\lib\\site-packages\\bs4\\__init__.py:272: UserWarning: \"b'A gentleman with a soulful country voice,  inculcated within his pure musical artistry... Rest in peace, Mr. Glen Campbell -- thank you for the music.\\n\\n/..'\" looks like a filename, not markup. You should probably open this file and pass the filehandle into Beautiful Soup.\n",
      "  ' Beautiful Soup.' % markup)\n"
     ]
    },
    {
     "name": "stdout",
     "output_type": "stream",
     "text": [
      "Review 1330000 of 1804874.\n",
      "Review 1335000 of 1804874.\n",
      "Review 1340000 of 1804874.\n",
      "Review 1345000 of 1804874.\n",
      "Review 1350000 of 1804874.\n",
      "Batch 27 cleaning completed.\n"
     ]
    }
   ],
   "source": [
    "cleaned_batch_27 = clean_data(27)\n",
    "cleaned_batch_27.to_csv('../dataset/cleaned_batch_27.csv',index=False)"
   ]
  },
  {
   "cell_type": "code",
   "execution_count": 393,
   "metadata": {},
   "outputs": [
    {
     "name": "stdout",
     "output_type": "stream",
     "text": [
      "Review 1355000 of 1804874.\n",
      "Review 1360000 of 1804874.\n"
     ]
    },
    {
     "name": "stderr",
     "output_type": "stream",
     "text": [
      "C:\\Users\\Carol\\Anaconda3\\lib\\site-packages\\bs4\\__init__.py:272: UserWarning: \"b\"Eva, do you have children? It would seem that ridiculing any child is 'low-brow' vitriol ..\\n\\n/..\"\" looks like a filename, not markup. You should probably open this file and pass the filehandle into Beautiful Soup.\n",
      "  ' Beautiful Soup.' % markup)\n"
     ]
    },
    {
     "name": "stdout",
     "output_type": "stream",
     "text": [
      "Review 1365000 of 1804874.\n",
      "Review 1370000 of 1804874.\n",
      "Review 1375000 of 1804874.\n"
     ]
    },
    {
     "name": "stderr",
     "output_type": "stream",
     "text": [
      "C:\\Users\\Carol\\Anaconda3\\lib\\site-packages\\bs4\\__init__.py:272: UserWarning: \"b\"No... people would be wise to listen to *everyone's* opinion.. \\n\\nThis glorification of the 'Tech Worker' is patently silly. Intellectual workers cover off a plethora of professions...\\n\\n/..\"\" looks like a filename, not markup. You should probably open this file and pass the filehandle into Beautiful Soup.\n",
      "  ' Beautiful Soup.' % markup)\n",
      "C:\\Users\\Carol\\Anaconda3\\lib\\site-packages\\bs4\\__init__.py:272: UserWarning: \"b'Well Said, Canadian...!!\\n\\n/..'\" looks like a filename, not markup. You should probably open this file and pass the filehandle into Beautiful Soup.\n",
      "  ' Beautiful Soup.' % markup)\n"
     ]
    },
    {
     "name": "stdout",
     "output_type": "stream",
     "text": [
      "Review 1380000 of 1804874.\n",
      "Review 1385000 of 1804874.\n"
     ]
    },
    {
     "name": "stderr",
     "output_type": "stream",
     "text": [
      "C:\\Users\\Carol\\Anaconda3\\lib\\site-packages\\bs4\\__init__.py:272: UserWarning: \"b'\"Consciousness to the fact that they are going to have to hurt or kill a lot of people if they want to maintain societal dominance.\"\\n~ ~ ~\\nHow blatantly silly..\\n\\n/..'\" looks like a filename, not markup. You should probably open this file and pass the filehandle into Beautiful Soup.\n",
      "  ' Beautiful Soup.' % markup)\n",
      "C:\\Users\\Carol\\Anaconda3\\lib\\site-packages\\bs4\\__init__.py:272: UserWarning: \"b'You have got to be Kidding ?!?\\n\\n ... Good Try -- No Cigar. \\n\\n/..'\" looks like a filename, not markup. You should probably open this file and pass the filehandle into Beautiful Soup.\n",
      "  ' Beautiful Soup.' % markup)\n",
      "C:\\Users\\Carol\\Anaconda3\\lib\\site-packages\\bs4\\__init__.py:272: UserWarning: \"b'Well Done...\\n\\n/..'\" looks like a filename, not markup. You should probably open this file and pass the filehandle into Beautiful Soup.\n",
      "  ' Beautiful Soup.' % markup)\n"
     ]
    },
    {
     "name": "stdout",
     "output_type": "stream",
     "text": [
      "Review 1390000 of 1804874.\n",
      "Review 1395000 of 1804874.\n",
      "Review 1400000 of 1804874.\n",
      "Batch 28 cleaning completed.\n"
     ]
    }
   ],
   "source": [
    "cleaned_batch_28 = clean_data(28)\n",
    "cleaned_batch_28.to_csv('../dataset/cleaned_batch_28.csv',index=False)"
   ]
  },
  {
   "cell_type": "code",
   "execution_count": 394,
   "metadata": {},
   "outputs": [
    {
     "name": "stdout",
     "output_type": "stream",
     "text": [
      "Review 1405000 of 1804874.\n",
      "Review 1410000 of 1804874.\n"
     ]
    },
    {
     "name": "stderr",
     "output_type": "stream",
     "text": [
      "C:\\Users\\Carol\\Anaconda3\\lib\\site-packages\\bs4\\__init__.py:272: UserWarning: \"b'Exactly... Well Said.\\n\\n/..'\" looks like a filename, not markup. You should probably open this file and pass the filehandle into Beautiful Soup.\n",
      "  ' Beautiful Soup.' % markup)\n"
     ]
    },
    {
     "name": "stdout",
     "output_type": "stream",
     "text": [
      "Review 1415000 of 1804874.\n",
      "Review 1420000 of 1804874.\n"
     ]
    },
    {
     "name": "stderr",
     "output_type": "stream",
     "text": [
      "C:\\Users\\Carol\\Anaconda3\\lib\\site-packages\\bs4\\__init__.py:272: UserWarning: \"b'Party Hardy Trudeau & Buddy Butts are making this up as they go..\\n\\nThey intend to take the current Canadian structure apart -- bone by bone.. \\n\\n/..'\" looks like a filename, not markup. You should probably open this file and pass the filehandle into Beautiful Soup.\n",
      "  ' Beautiful Soup.' % markup)\n"
     ]
    },
    {
     "name": "stdout",
     "output_type": "stream",
     "text": [
      "Review 1425000 of 1804874.\n",
      "Review 1430000 of 1804874.\n"
     ]
    },
    {
     "name": "stderr",
     "output_type": "stream",
     "text": [
      "C:\\Users\\Carol\\Anaconda3\\lib\\site-packages\\bs4\\__init__.py:272: UserWarning: \"b'The Americans certainly have their problems right now...\\n\\n/..'\" looks like a filename, not markup. You should probably open this file and pass the filehandle into Beautiful Soup.\n",
      "  ' Beautiful Soup.' % markup)\n"
     ]
    },
    {
     "name": "stdout",
     "output_type": "stream",
     "text": [
      "Review 1435000 of 1804874.\n",
      "Review 1440000 of 1804874.\n",
      "Review 1445000 of 1804874.\n",
      "Review 1450000 of 1804874.\n",
      "Batch 29 cleaning completed.\n"
     ]
    }
   ],
   "source": [
    "cleaned_batch_29 = clean_data(29)\n",
    "cleaned_batch_29.to_csv('../dataset/cleaned_batch_29.csv',index=False)"
   ]
  },
  {
   "cell_type": "code",
   "execution_count": 395,
   "metadata": {},
   "outputs": [
    {
     "name": "stderr",
     "output_type": "stream",
     "text": [
      "C:\\Users\\Carol\\Anaconda3\\lib\\site-packages\\bs4\\__init__.py:272: UserWarning: \"b\". . . likely for having to listen to this woman's bigoted racist trash-talk..\\n\\n/..\"\" looks like a filename, not markup. You should probably open this file and pass the filehandle into Beautiful Soup.\n",
      "  ' Beautiful Soup.' % markup)\n",
      "C:\\Users\\Carol\\Anaconda3\\lib\\site-packages\\bs4\\__init__.py:272: UserWarning: \"b'Thank you for a poignant post.. Well Said.\\n\\n/..'\" looks like a filename, not markup. You should probably open this file and pass the filehandle into Beautiful Soup.\n",
      "  ' Beautiful Soup.' % markup)\n"
     ]
    },
    {
     "name": "stdout",
     "output_type": "stream",
     "text": [
      "Review 1455000 of 1804874.\n"
     ]
    },
    {
     "name": "stderr",
     "output_type": "stream",
     "text": [
      "C:\\Users\\Carol\\Anaconda3\\lib\\site-packages\\bs4\\__init__.py:272: UserWarning: \"b'What a strange dumb comment..\\n\\n/..'\" looks like a filename, not markup. You should probably open this file and pass the filehandle into Beautiful Soup.\n",
      "  ' Beautiful Soup.' % markup)\n"
     ]
    },
    {
     "name": "stdout",
     "output_type": "stream",
     "text": [
      "Review 1460000 of 1804874.\n",
      "Review 1465000 of 1804874.\n",
      "Review 1470000 of 1804874.\n",
      "Review 1475000 of 1804874.\n"
     ]
    },
    {
     "name": "stderr",
     "output_type": "stream",
     "text": [
      "C:\\Users\\Carol\\Anaconda3\\lib\\site-packages\\bs4\\__init__.py:272: UserWarning: \"b\". . . nothing like falling back on 'unnecessary personal insult' to pejoratively retort to a logical premise...\\n\\nCheers Canadian.\\n\\n/..\"\" looks like a filename, not markup. You should probably open this file and pass the filehandle into Beautiful Soup.\n",
      "  ' Beautiful Soup.' % markup)\n"
     ]
    },
    {
     "name": "stdout",
     "output_type": "stream",
     "text": [
      "Review 1480000 of 1804874.\n",
      "Review 1485000 of 1804874.\n",
      "Review 1490000 of 1804874.\n"
     ]
    },
    {
     "name": "stderr",
     "output_type": "stream",
     "text": [
      "C:\\Users\\Carol\\Anaconda3\\lib\\site-packages\\bs4\\__init__.py:272: UserWarning: \"b'Man... this Canadian was laughing to tears from your comment... Priceless.. !\\n\\nYou coined the perfect comparative simile..\\n\\nCheers! :)\\n\\n/..'\" looks like a filename, not markup. You should probably open this file and pass the filehandle into Beautiful Soup.\n",
      "  ' Beautiful Soup.' % markup)\n"
     ]
    },
    {
     "name": "stdout",
     "output_type": "stream",
     "text": [
      "Review 1495000 of 1804874.\n"
     ]
    },
    {
     "name": "stderr",
     "output_type": "stream",
     "text": [
      "C:\\Users\\Carol\\Anaconda3\\lib\\site-packages\\bs4\\__init__.py:272: UserWarning: \"b'Well... you never know, Buford.. We here in Canada do hope that is not the case.\\n\\n/..'\" looks like a filename, not markup. You should probably open this file and pass the filehandle into Beautiful Soup.\n",
      "  ' Beautiful Soup.' % markup)\n"
     ]
    },
    {
     "name": "stdout",
     "output_type": "stream",
     "text": [
      "Review 1500000 of 1804874.\n",
      "Batch 30 cleaning completed.\n"
     ]
    }
   ],
   "source": [
    "cleaned_batch_30 = clean_data(30)\n",
    "cleaned_batch_30.to_csv('../dataset/cleaned_batch_30.csv',index=False)"
   ]
  },
  {
   "cell_type": "code",
   "execution_count": 396,
   "metadata": {},
   "outputs": [
    {
     "name": "stdout",
     "output_type": "stream",
     "text": [
      "Review 1505000 of 1804874.\n"
     ]
    },
    {
     "name": "stderr",
     "output_type": "stream",
     "text": [
      "C:\\Users\\Carol\\Anaconda3\\lib\\site-packages\\bs4\\__init__.py:272: UserWarning: \"b'Exactly... Well Said.. !!\\n\\nSmaller populations not more humans -- contrary to popular global belief there actually are other species on this Planet that are just as important as humans..\\n\\n/..'\" looks like a filename, not markup. You should probably open this file and pass the filehandle into Beautiful Soup.\n",
      "  ' Beautiful Soup.' % markup)\n",
      "C:\\Users\\Carol\\Anaconda3\\lib\\site-packages\\bs4\\__init__.py:272: UserWarning: \"b'(c) \"That is why a shared culture is the sine qua non for a thriving quality cinema, literature, etc.\"(c)\\n~ ~ ~\\nYou are quite right... Well Said!!\\n\\n/..'\" looks like a filename, not markup. You should probably open this file and pass the filehandle into Beautiful Soup.\n",
      "  ' Beautiful Soup.' % markup)\n"
     ]
    },
    {
     "name": "stdout",
     "output_type": "stream",
     "text": [
      "Review 1510000 of 1804874.\n",
      "Review 1515000 of 1804874.\n",
      "Review 1520000 of 1804874.\n"
     ]
    },
    {
     "name": "stderr",
     "output_type": "stream",
     "text": [
      "C:\\Users\\Carol\\Anaconda3\\lib\\site-packages\\bs4\\__init__.py:272: UserWarning: \"b'Gee, Alceste... Good Try !!.. but Wrong. Just try re-reading the comment.\\n\\nGood Luck & Cheers, Canadian.\\n\\n/..'\" looks like a filename, not markup. You should probably open this file and pass the filehandle into Beautiful Soup.\n",
      "  ' Beautiful Soup.' % markup)\n",
      "C:\\Users\\Carol\\Anaconda3\\lib\\site-packages\\bs4\\__init__.py:272: UserWarning: \"b'You are quite right.. Well Said.\\n\\n/..'\" looks like a filename, not markup. You should probably open this file and pass the filehandle into Beautiful Soup.\n",
      "  ' Beautiful Soup.' % markup)\n",
      "C:\\Users\\Carol\\Anaconda3\\lib\\site-packages\\bs4\\__init__.py:272: UserWarning: \"b'WesternPatriot.. Well Said.\\n\\n/..'\" looks like a filename, not markup. You should probably open this file and pass the filehandle into Beautiful Soup.\n",
      "  ' Beautiful Soup.' % markup)\n",
      "C:\\Users\\Carol\\Anaconda3\\lib\\site-packages\\bs4\\__init__.py:272: UserWarning: \"b\"No Kidding... How could that be??\\n\\nGiven the amount of censorship that seems to be taking place within this story's commenting thread... it is surprising you were able to state your opinion here..\\n\\n/..\"\" looks like a filename, not markup. You should probably open this file and pass the filehandle into Beautiful Soup.\n",
      "  ' Beautiful Soup.' % markup)\n",
      "C:\\Users\\Carol\\Anaconda3\\lib\\site-packages\\bs4\\__init__.py:272: UserWarning: \"b\"You make a very good point... Strange Stats from the Federal Gov't agency Stats Can -- published by another Federal Gov't crown agency, CBC.\\n\\nOf course, there's No bias there.\\n\\n/..\"\" looks like a filename, not markup. You should probably open this file and pass the filehandle into Beautiful Soup.\n",
      "  ' Beautiful Soup.' % markup)\n"
     ]
    },
    {
     "name": "stdout",
     "output_type": "stream",
     "text": [
      "Review 1525000 of 1804874.\n"
     ]
    },
    {
     "name": "stderr",
     "output_type": "stream",
     "text": [
      "C:\\Users\\Carol\\Anaconda3\\lib\\site-packages\\bs4\\__init__.py:272: UserWarning: \"b'Excellent Insight... Well Said.\\n\\n/..'\" looks like a filename, not markup. You should probably open this file and pass the filehandle into Beautiful Soup.\n",
      "  ' Beautiful Soup.' % markup)\n"
     ]
    },
    {
     "name": "stdout",
     "output_type": "stream",
     "text": [
      "Review 1530000 of 1804874.\n",
      "Review 1535000 of 1804874.\n",
      "Review 1540000 of 1804874.\n",
      "Review 1545000 of 1804874.\n",
      "Review 1550000 of 1804874.\n",
      "Batch 31 cleaning completed.\n"
     ]
    }
   ],
   "source": [
    "cleaned_batch_31 = clean_data(31)\n",
    "cleaned_batch_31.to_csv('../dataset/cleaned_batch_31.csv',index=False)"
   ]
  },
  {
   "cell_type": "code",
   "execution_count": 397,
   "metadata": {},
   "outputs": [
    {
     "name": "stdout",
     "output_type": "stream",
     "text": [
      "Review 1555000 of 1804874.\n",
      "Review 1560000 of 1804874.\n",
      "Review 1565000 of 1804874.\n",
      "Review 1570000 of 1804874.\n"
     ]
    },
    {
     "name": "stderr",
     "output_type": "stream",
     "text": [
      "C:\\Users\\Carol\\Anaconda3\\lib\\site-packages\\bs4\\__init__.py:272: UserWarning: \"b\"You nailed it... and now it is time to pay for the 'Majority' we gave them.\\n\\n. . . and We Canadians will pay dearly.\\n\\n/..\"\" looks like a filename, not markup. You should probably open this file and pass the filehandle into Beautiful Soup.\n",
      "  ' Beautiful Soup.' % markup)\n"
     ]
    },
    {
     "name": "stdout",
     "output_type": "stream",
     "text": [
      "Review 1575000 of 1804874.\n",
      "Review 1580000 of 1804874.\n",
      "Review 1585000 of 1804874.\n",
      "Review 1590000 of 1804874.\n",
      "Review 1595000 of 1804874.\n",
      "Review 1600000 of 1804874.\n",
      "Batch 32 cleaning completed.\n"
     ]
    }
   ],
   "source": [
    "cleaned_batch_32 = clean_data(32)\n",
    "cleaned_batch_32.to_csv('../dataset/cleaned_batch_32.csv',index=False)"
   ]
  },
  {
   "cell_type": "code",
   "execution_count": 398,
   "metadata": {},
   "outputs": [
    {
     "name": "stdout",
     "output_type": "stream",
     "text": [
      "Review 1605000 of 1804874.\n",
      "Review 1610000 of 1804874.\n",
      "Review 1615000 of 1804874.\n"
     ]
    },
    {
     "name": "stderr",
     "output_type": "stream",
     "text": [
      "C:\\Users\\Carol\\Anaconda3\\lib\\site-packages\\bs4\\__init__.py:272: UserWarning: \"b'Well Said, OrsonW.. !\\n\\n/..'\" looks like a filename, not markup. You should probably open this file and pass the filehandle into Beautiful Soup.\n",
      "  ' Beautiful Soup.' % markup)\n"
     ]
    },
    {
     "name": "stdout",
     "output_type": "stream",
     "text": [
      "Review 1620000 of 1804874.\n",
      "Review 1625000 of 1804874.\n",
      "Review 1630000 of 1804874.\n",
      "Review 1635000 of 1804874.\n",
      "Review 1640000 of 1804874.\n",
      "Review 1645000 of 1804874.\n",
      "Review 1650000 of 1804874.\n",
      "Batch 33 cleaning completed.\n"
     ]
    }
   ],
   "source": [
    "cleaned_batch_33 = clean_data(33)\n",
    "cleaned_batch_33.to_csv('../dataset/cleaned_batch_33.csv',index=False)"
   ]
  },
  {
   "cell_type": "code",
   "execution_count": 399,
   "metadata": {},
   "outputs": [
    {
     "name": "stdout",
     "output_type": "stream",
     "text": [
      "Review 1655000 of 1804874.\n",
      "Review 1660000 of 1804874.\n",
      "Review 1665000 of 1804874.\n"
     ]
    },
    {
     "name": "stderr",
     "output_type": "stream",
     "text": [
      "C:\\Users\\Carol\\Anaconda3\\lib\\site-packages\\bs4\\__init__.py:272: UserWarning: \"b'Excellent Comment... Well Said, Teddy.\\n\\n/..'\" looks like a filename, not markup. You should probably open this file and pass the filehandle into Beautiful Soup.\n",
      "  ' Beautiful Soup.' % markup)\n",
      "C:\\Users\\Carol\\Anaconda3\\lib\\site-packages\\bs4\\__init__.py:272: UserWarning: \"b\"Trudeau's bolo punch with his aggressive taxing & spending on those who can not defend themselves... ergo, Trudeau's dumb management of our Canada's Finances.\\n \\nMr. Divisive -- That's Who.\\n\\n/..\"\" looks like a filename, not markup. You should probably open this file and pass the filehandle into Beautiful Soup.\n",
      "  ' Beautiful Soup.' % markup)\n",
      "C:\\Users\\Carol\\Anaconda3\\lib\\site-packages\\bs4\\__init__.py:272: UserWarning: \"b\"Boy, that really hurt. Gee whiz... I guess you must be havin' a bad day, huh?\\n\\nWell then, you know...  I really will try to stay on topic just for you, honey.\\n\\nLOL.\\n\\n/..\"\" looks like a filename, not markup. You should probably open this file and pass the filehandle into Beautiful Soup.\n",
      "  ' Beautiful Soup.' % markup)\n",
      "C:\\Users\\Carol\\Anaconda3\\lib\\site-packages\\bs4\\__init__.py:272: UserWarning: \"b'Exactly.\\n\\n/..'\" looks like a filename, not markup. You should probably open this file and pass the filehandle into Beautiful Soup.\n",
      "  ' Beautiful Soup.' % markup)\n"
     ]
    },
    {
     "name": "stdout",
     "output_type": "stream",
     "text": [
      "Review 1670000 of 1804874.\n",
      "Review 1675000 of 1804874.\n",
      "Review 1680000 of 1804874.\n",
      "Review 1685000 of 1804874.\n"
     ]
    },
    {
     "name": "stderr",
     "output_type": "stream",
     "text": [
      "C:\\Users\\Carol\\Anaconda3\\lib\\site-packages\\bs4\\__init__.py:272: UserWarning: \"b'CBC got its payoff to the tune of over ~$1.3 Billion..\\n\\n/..'\" looks like a filename, not markup. You should probably open this file and pass the filehandle into Beautiful Soup.\n",
      "  ' Beautiful Soup.' % markup)\n"
     ]
    },
    {
     "name": "stdout",
     "output_type": "stream",
     "text": [
      "Review 1690000 of 1804874.\n",
      "Review 1695000 of 1804874.\n"
     ]
    },
    {
     "name": "stderr",
     "output_type": "stream",
     "text": [
      "C:\\Users\\Carol\\Anaconda3\\lib\\site-packages\\bs4\\__init__.py:272: UserWarning: \"b'Not at all... welcome Canadian.\\n\\n/..'\" looks like a filename, not markup. You should probably open this file and pass the filehandle into Beautiful Soup.\n",
      "  ' Beautiful Soup.' % markup)\n"
     ]
    },
    {
     "name": "stdout",
     "output_type": "stream",
     "text": [
      "Review 1700000 of 1804874.\n",
      "Batch 34 cleaning completed.\n"
     ]
    }
   ],
   "source": [
    "cleaned_batch_34 = clean_data(34)\n",
    "cleaned_batch_34.to_csv('../dataset/cleaned_batch_34.csv',index=False)"
   ]
  },
  {
   "cell_type": "code",
   "execution_count": 400,
   "metadata": {},
   "outputs": [
    {
     "name": "stdout",
     "output_type": "stream",
     "text": [
      "Review 1705000 of 1804874.\n",
      "Review 1710000 of 1804874.\n",
      "Review 1715000 of 1804874.\n",
      "Review 1720000 of 1804874.\n",
      "Review 1725000 of 1804874.\n"
     ]
    },
    {
     "name": "stderr",
     "output_type": "stream",
     "text": [
      "C:\\Users\\Carol\\Anaconda3\\lib\\site-packages\\bs4\\__init__.py:272: UserWarning: \"b'Gee... hate to break it to you but, yelling at another Canadian about how they should perceive their choice is a sad commentary in & of itself..\\n\\n/..'\" looks like a filename, not markup. You should probably open this file and pass the filehandle into Beautiful Soup.\n",
      "  ' Beautiful Soup.' % markup)\n"
     ]
    },
    {
     "name": "stdout",
     "output_type": "stream",
     "text": [
      "Review 1730000 of 1804874.\n"
     ]
    },
    {
     "name": "stderr",
     "output_type": "stream",
     "text": [
      "C:\\Users\\Carol\\Anaconda3\\lib\\site-packages\\bs4\\__init__.py:272: UserWarning: \"b'...................'\" looks like a filename, not markup. You should probably open this file and pass the filehandle into Beautiful Soup.\n",
      "  ' Beautiful Soup.' % markup)\n"
     ]
    },
    {
     "name": "stdout",
     "output_type": "stream",
     "text": [
      "Review 1735000 of 1804874.\n",
      "Review 1740000 of 1804874.\n",
      "Review 1745000 of 1804874.\n",
      "Review 1750000 of 1804874.\n",
      "Batch 35 cleaning completed.\n"
     ]
    }
   ],
   "source": [
    "cleaned_batch_35 = clean_data(35)\n",
    "cleaned_batch_35.to_csv('../dataset/cleaned_batch_35.csv',index=False)"
   ]
  },
  {
   "cell_type": "code",
   "execution_count": 401,
   "metadata": {},
   "outputs": [
    {
     "name": "stdout",
     "output_type": "stream",
     "text": [
      "Review 1755000 of 1804874.\n",
      "Review 1760000 of 1804874.\n"
     ]
    },
    {
     "name": "stderr",
     "output_type": "stream",
     "text": [
      "C:\\Users\\Carol\\Anaconda3\\lib\\site-packages\\bs4\\__init__.py:272: UserWarning: \"b'. . . and yet here you are -- mingling.\\n\\n/..'\" looks like a filename, not markup. You should probably open this file and pass the filehandle into Beautiful Soup.\n",
      "  ' Beautiful Soup.' % markup)\n"
     ]
    },
    {
     "name": "stdout",
     "output_type": "stream",
     "text": [
      "Review 1765000 of 1804874.\n",
      "Review 1770000 of 1804874.\n",
      "Review 1775000 of 1804874.\n",
      "Review 1780000 of 1804874.\n"
     ]
    },
    {
     "name": "stderr",
     "output_type": "stream",
     "text": [
      "C:\\Users\\Carol\\Anaconda3\\lib\\site-packages\\bs4\\__init__.py:272: UserWarning: \"b'. . .  \"another\" what, Canadian??  Would that be more innocent victims for a pretentious snotty virus??\\n\\n/..'\" looks like a filename, not markup. You should probably open this file and pass the filehandle into Beautiful Soup.\n",
      "  ' Beautiful Soup.' % markup)\n",
      "C:\\Users\\Carol\\Anaconda3\\lib\\site-packages\\bs4\\__init__.py:272: UserWarning: \"b'It only takes \"courage\" if the individual is \\'sincere\\'. . . otherwise, the \"Excuse\" is simply manipulation.\\n\\n/..'\" looks like a filename, not markup. You should probably open this file and pass the filehandle into Beautiful Soup.\n",
      "  ' Beautiful Soup.' % markup)\n"
     ]
    },
    {
     "name": "stdout",
     "output_type": "stream",
     "text": [
      "Review 1785000 of 1804874.\n"
     ]
    },
    {
     "name": "stderr",
     "output_type": "stream",
     "text": [
      "C:\\Users\\Carol\\Anaconda3\\lib\\site-packages\\bs4\\__init__.py:272: UserWarning: \"b'That fails to make sense..\\n\\n/..'\" looks like a filename, not markup. You should probably open this file and pass the filehandle into Beautiful Soup.\n",
      "  ' Beautiful Soup.' % markup)\n"
     ]
    },
    {
     "name": "stdout",
     "output_type": "stream",
     "text": [
      "Review 1790000 of 1804874.\n",
      "Review 1795000 of 1804874.\n"
     ]
    },
    {
     "name": "stderr",
     "output_type": "stream",
     "text": [
      "C:\\Users\\Carol\\Anaconda3\\lib\\site-packages\\bs4\\__init__.py:272: UserWarning: \"b'Allan, you think.. ?? Gosh, how can you say that??\\n\\n/..'\" looks like a filename, not markup. You should probably open this file and pass the filehandle into Beautiful Soup.\n",
      "  ' Beautiful Soup.' % markup)\n"
     ]
    },
    {
     "name": "stdout",
     "output_type": "stream",
     "text": [
      "Review 1800000 of 1804874.\n",
      "Batch 36 cleaning completed.\n"
     ]
    }
   ],
   "source": [
    "cleaned_batch_36 = clean_data(36)\n",
    "cleaned_batch_36.to_csv('../dataset/cleaned_batch_36.csv',index=False)"
   ]
  },
  {
   "cell_type": "code",
   "execution_count": 402,
   "metadata": {},
   "outputs": [
    {
     "name": "stdout",
     "output_type": "stream",
     "text": [
      "Batch 37 cleaning completed.\n"
     ]
    }
   ],
   "source": [
    "cleaned_batch_37 = clean_data(37)\n",
    "cleaned_batch_37.to_csv('../dataset/cleaned_batch_37.csv',index=False)"
   ]
  },
  {
   "cell_type": "code",
   "execution_count": 403,
   "metadata": {},
   "outputs": [
    {
     "data": {
      "text/plain": [
       "(1804874, 2)"
      ]
     },
     "execution_count": 403,
     "metadata": {},
     "output_type": "execute_result"
    }
   ],
   "source": [
    "## Merge the cleaned batch dataframes\n",
    "df = [cleaned_batch_1,cleaned_batch_2,cleaned_batch_3,cleaned_batch_4,cleaned_batch_5,cleaned_batch_6,\n",
    "     cleaned_batch_7,cleaned_batch_8,cleaned_batch_9,cleaned_batch_10,cleaned_batch_11,cleaned_batch_12,\n",
    "     cleaned_batch_13,cleaned_batch_14,cleaned_batch_15,cleaned_batch_16,cleaned_batch_17,cleaned_batch_18,\n",
    "     cleaned_batch_19,cleaned_batch_20,cleaned_batch_21,cleaned_batch_22,cleaned_batch_23,cleaned_batch_24,\n",
    "     cleaned_batch_25,cleaned_batch_26,cleaned_batch_27,cleaned_batch_28,cleaned_batch_29,cleaned_batch_30,\n",
    "     cleaned_batch_31,cleaned_batch_32,cleaned_batch_33,cleaned_batch_34,cleaned_batch_35,cleaned_batch_36,\n",
    "     cleaned_batch_37]\n",
    "cleaned_text_df = pd.concat(df,ignore_index=True)\n",
    "cleaned_text_df.shape"
   ]
  },
  {
   "cell_type": "code",
   "execution_count": 404,
   "metadata": {},
   "outputs": [],
   "source": [
    "# Drop empty comment columns and duplicates\n",
    "cleaned_text_df.drop_duplicates(inplace=True)\n",
    "cleaned_text_df = cleaned_text_df[cleaned_text_df['comment'] != '']"
   ]
  },
  {
   "cell_type": "code",
   "execution_count": 405,
   "metadata": {},
   "outputs": [
    {
     "data": {
      "text/plain": [
       "(1760811, 2)"
      ]
     },
     "execution_count": 405,
     "metadata": {},
     "output_type": "execute_result"
    }
   ],
   "source": [
    "cleaned_text_df.shape"
   ]
  },
  {
   "cell_type": "code",
   "execution_count": 365,
   "metadata": {},
   "outputs": [
    {
     "data": {
      "text/html": [
       "<div>\n",
       "<style scoped>\n",
       "    .dataframe tbody tr th:only-of-type {\n",
       "        vertical-align: middle;\n",
       "    }\n",
       "\n",
       "    .dataframe tbody tr th {\n",
       "        vertical-align: top;\n",
       "    }\n",
       "\n",
       "    .dataframe thead th {\n",
       "        text-align: right;\n",
       "    }\n",
       "</style>\n",
       "<table border=\"1\" class=\"dataframe\">\n",
       "  <thead>\n",
       "    <tr style=\"text-align: right;\">\n",
       "      <th></th>\n",
       "      <th>comment</th>\n",
       "      <th>target</th>\n",
       "    </tr>\n",
       "  </thead>\n",
       "  <tbody>\n",
       "    <tr>\n",
       "      <th>899995</th>\n",
       "      <td>exactly quite apart expert analysis support re...</td>\n",
       "      <td>0.000000</td>\n",
       "    </tr>\n",
       "    <tr>\n",
       "      <th>899996</th>\n",
       "      <td>funny trevor noah smug guess learn brexit trum...</td>\n",
       "      <td>0.166667</td>\n",
       "    </tr>\n",
       "    <tr>\n",
       "      <th>899997</th>\n",
       "      <td>good question three office member embrace week...</td>\n",
       "      <td>0.000000</td>\n",
       "    </tr>\n",
       "    <tr>\n",
       "      <th>899998</th>\n",
       "      <td>alceste upset mortgage house turn try tell get...</td>\n",
       "      <td>0.000000</td>\n",
       "    </tr>\n",
       "    <tr>\n",
       "      <th>899999</th>\n",
       "      <td>assertion without definition specifically wron...</td>\n",
       "      <td>0.000000</td>\n",
       "    </tr>\n",
       "  </tbody>\n",
       "</table>\n",
       "</div>"
      ],
      "text/plain": [
       "                                                  comment    target\n",
       "899995  exactly quite apart expert analysis support re...  0.000000\n",
       "899996  funny trevor noah smug guess learn brexit trum...  0.166667\n",
       "899997  good question three office member embrace week...  0.000000\n",
       "899998  alceste upset mortgage house turn try tell get...  0.000000\n",
       "899999  assertion without definition specifically wron...  0.000000"
      ]
     },
     "execution_count": 365,
     "metadata": {},
     "output_type": "execute_result"
    }
   ],
   "source": [
    "cleaned_text_df.tail()"
   ]
  },
  {
   "cell_type": "code",
   "execution_count": 407,
   "metadata": {},
   "outputs": [],
   "source": [
    "# Merged toxic labels on cleaned dataframe\n",
    "toxic_labels = ['severe_toxicity','obscene','threat','insult','identity_attack','sexual_explicit']\n",
    "for i in toxic_labels:\n",
    "    cleaned_text_df[i] = data[i]"
   ]
  },
  {
   "cell_type": "code",
   "execution_count": 408,
   "metadata": {},
   "outputs": [],
   "source": [
    "# Merged identity labels on cleaned dataframe\n",
    "identity_labels = ['male','female','transgender','other_gender','heterosexual','homosexual_gay_or_lesbian','bisexual','other_sexual_orientation',\n",
    "                   'christian','jewish','muslim','hindu','buddhist','atheist','other_religion','black','white','asian','latino','other_race_or_ethnicity',\n",
    "                   'physical_disability','intellectual_or_learning_disability','psychiatric_or_mental_illness','other_disability']\n",
    "\n",
    "for i in identity_labels:\n",
    "    cleaned_text_df[i] = data[i]"
   ]
  },
  {
   "cell_type": "markdown",
   "metadata": {},
   "source": [
    "Store the final dataframe into a csv for later use."
   ]
  },
  {
   "cell_type": "code",
   "execution_count": 406,
   "metadata": {},
   "outputs": [],
   "source": [
    "cleaned_text_df.to_csv('../dataset/cleaned_text_df.csv',index=False)"
   ]
  }
 ],
 "metadata": {
  "kernelspec": {
   "display_name": "Python 3",
   "language": "python",
   "name": "python3"
  },
  "language_info": {
   "codemirror_mode": {
    "name": "ipython",
    "version": 3
   },
   "file_extension": ".py",
   "mimetype": "text/x-python",
   "name": "python",
   "nbconvert_exporter": "python",
   "pygments_lexer": "ipython3",
   "version": "3.7.3"
  }
 },
 "nbformat": 4,
 "nbformat_minor": 4
}
